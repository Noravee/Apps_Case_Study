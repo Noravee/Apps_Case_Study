{
 "cells": [
  {
   "cell_type": "markdown",
   "metadata": {
    "colab_type": "text",
    "id": "i2RUFW7TFcuh"
   },
   "source": [
    "# Springboard Apps project - Tier 3 - Complete\n",
    "\n",
    "Welcome to the Apps project! To give you a taste of your future career, we're going to walk through exactly the kind of notebook that you'd write as a data scientist. In the process, we'll be sure to signpost the general framework for our investigation - the Data Science Pipeline - as well as give reasons for why we're doing what we're doing. We're also going to apply some of the skills and knowledge you've built up in the previous unit when reading Professor Spiegelhalter's *The Art of Statistics* (hereinafter *AoS*). \n",
    "\n",
    "So let's get cracking!\n",
    "\n",
    "**Brief**\n",
    "\n",
    "Did Apple Store apps receive better reviews than Google Play apps?\n",
    "\n",
    "## Stages of the project\n",
    "\n",
    "1. Sourcing and loading \n",
    "    * Load the two datasets\n",
    "    * Pick the columns that we are going to work with \n",
    "    * Subsetting the data on this basis \n",
    " \n",
    " \n",
    "2. Cleaning, transforming and visualizing\n",
    "    * Check the data types and fix them\n",
    "    * Add a `platform` column to both the `Apple` and the `Google` dataframes\n",
    "    * Changing the column names to prepare for a join \n",
    "    * Join the two data sets\n",
    "    * Eliminate the `NaN` values\n",
    "    * Filter only those apps that have been reviewed at least once\n",
    "    * Summarize the data visually and analytically (by the column `platform`)  \n",
    "  \n",
    "  \n",
    "3. Modelling \n",
    "    * Hypothesis formulation\n",
    "    * Getting the distribution of the data\n",
    "    * Permutation test \n",
    "\n",
    "\n",
    "4. Evaluating and concluding \n",
    "    * What is our conclusion?\n",
    "    * What is our decision?\n",
    "    * Other models we could have used. \n",
    "    "
   ]
  },
  {
   "cell_type": "markdown",
   "metadata": {
    "colab_type": "text",
    "id": "QLUAXtl1Fcuk"
   },
   "source": [
    "## Importing the libraries\n",
    "\n",
    "In this case we are going to import pandas, numpy, scipy, random and matplotlib.pyplot"
   ]
  },
  {
   "cell_type": "code",
   "execution_count": 1,
   "metadata": {
    "colab": {},
    "colab_type": "code",
    "id": "XeXJOlGiFcum"
   },
   "outputs": [],
   "source": [
    "import pandas as pd\n",
    "import numpy as np\n",
    "import matplotlib.pyplot as plt\n",
    "# scipi is a library for statistical tests and visualizations \n",
    "from scipy import stats\n",
    "# random enables us to generate random numbers\n",
    "import random"
   ]
  },
  {
   "cell_type": "code",
   "execution_count": 27,
   "metadata": {},
   "outputs": [],
   "source": [
    "import seaborn as sns"
   ]
  },
  {
   "cell_type": "markdown",
   "metadata": {
    "colab_type": "text",
    "id": "zVD7NlPAFcup"
   },
   "source": [
    "## Stage 1 -  Sourcing and loading data"
   ]
  },
  {
   "cell_type": "markdown",
   "metadata": {
    "colab_type": "text",
    "id": "KU8bdbImFcuq"
   },
   "source": [
    "### 1a. Source and load the data\n",
    "Let's download the data from Kaggle. Kaggle is a fantastic resource: a kind of social medium for data scientists, it boasts projects, datasets and news on the freshest libraries and technologies all in one place. The data from the Apple Store can be found [here](https://www.kaggle.com/ramamet4/app-store-apple-data-set-10k-apps) and the data from Google Store can be found [here](https://www.kaggle.com/lava18/google-play-store-apps).\n",
    "Download the datasets and save them in your working directory."
   ]
  },
  {
   "cell_type": "code",
   "execution_count": 2,
   "metadata": {
    "colab": {},
    "colab_type": "code",
    "id": "laM1PB76Fcur"
   },
   "outputs": [
    {
     "data": {
      "text/html": [
       "<div>\n",
       "<style scoped>\n",
       "    .dataframe tbody tr th:only-of-type {\n",
       "        vertical-align: middle;\n",
       "    }\n",
       "\n",
       "    .dataframe tbody tr th {\n",
       "        vertical-align: top;\n",
       "    }\n",
       "\n",
       "    .dataframe thead th {\n",
       "        text-align: right;\n",
       "    }\n",
       "</style>\n",
       "<table border=\"1\" class=\"dataframe\">\n",
       "  <thead>\n",
       "    <tr style=\"text-align: right;\">\n",
       "      <th></th>\n",
       "      <th>App</th>\n",
       "      <th>Category</th>\n",
       "      <th>Rating</th>\n",
       "      <th>Reviews</th>\n",
       "      <th>Size</th>\n",
       "      <th>Installs</th>\n",
       "      <th>Type</th>\n",
       "      <th>Price</th>\n",
       "      <th>Content Rating</th>\n",
       "      <th>Genres</th>\n",
       "      <th>Last Updated</th>\n",
       "      <th>Current Ver</th>\n",
       "      <th>Android Ver</th>\n",
       "    </tr>\n",
       "  </thead>\n",
       "  <tbody>\n",
       "    <tr>\n",
       "      <th>0</th>\n",
       "      <td>Photo Editor &amp; Candy Camera &amp; Grid &amp; ScrapBook</td>\n",
       "      <td>ART_AND_DESIGN</td>\n",
       "      <td>4.1</td>\n",
       "      <td>159</td>\n",
       "      <td>19M</td>\n",
       "      <td>10,000+</td>\n",
       "      <td>Free</td>\n",
       "      <td>0</td>\n",
       "      <td>Everyone</td>\n",
       "      <td>Art &amp; Design</td>\n",
       "      <td>January 7, 2018</td>\n",
       "      <td>1.0.0</td>\n",
       "      <td>4.0.3 and up</td>\n",
       "    </tr>\n",
       "    <tr>\n",
       "      <th>1</th>\n",
       "      <td>Coloring book moana</td>\n",
       "      <td>ART_AND_DESIGN</td>\n",
       "      <td>3.9</td>\n",
       "      <td>967</td>\n",
       "      <td>14M</td>\n",
       "      <td>500,000+</td>\n",
       "      <td>Free</td>\n",
       "      <td>0</td>\n",
       "      <td>Everyone</td>\n",
       "      <td>Art &amp; Design;Pretend Play</td>\n",
       "      <td>January 15, 2018</td>\n",
       "      <td>2.0.0</td>\n",
       "      <td>4.0.3 and up</td>\n",
       "    </tr>\n",
       "    <tr>\n",
       "      <th>2</th>\n",
       "      <td>U Launcher Lite – FREE Live Cool Themes, Hide ...</td>\n",
       "      <td>ART_AND_DESIGN</td>\n",
       "      <td>4.7</td>\n",
       "      <td>87510</td>\n",
       "      <td>8.7M</td>\n",
       "      <td>5,000,000+</td>\n",
       "      <td>Free</td>\n",
       "      <td>0</td>\n",
       "      <td>Everyone</td>\n",
       "      <td>Art &amp; Design</td>\n",
       "      <td>August 1, 2018</td>\n",
       "      <td>1.2.4</td>\n",
       "      <td>4.0.3 and up</td>\n",
       "    </tr>\n",
       "  </tbody>\n",
       "</table>\n",
       "</div>"
      ],
      "text/plain": [
       "                                                 App        Category  Rating  \\\n",
       "0     Photo Editor & Candy Camera & Grid & ScrapBook  ART_AND_DESIGN     4.1   \n",
       "1                                Coloring book moana  ART_AND_DESIGN     3.9   \n",
       "2  U Launcher Lite – FREE Live Cool Themes, Hide ...  ART_AND_DESIGN     4.7   \n",
       "\n",
       "  Reviews  Size    Installs  Type Price Content Rating  \\\n",
       "0     159   19M     10,000+  Free     0       Everyone   \n",
       "1     967   14M    500,000+  Free     0       Everyone   \n",
       "2   87510  8.7M  5,000,000+  Free     0       Everyone   \n",
       "\n",
       "                      Genres      Last Updated Current Ver   Android Ver  \n",
       "0               Art & Design   January 7, 2018       1.0.0  4.0.3 and up  \n",
       "1  Art & Design;Pretend Play  January 15, 2018       2.0.0  4.0.3 and up  \n",
       "2               Art & Design    August 1, 2018       1.2.4  4.0.3 and up  "
      ]
     },
     "execution_count": 2,
     "metadata": {},
     "output_type": "execute_result"
    }
   ],
   "source": [
    "# Now that the files are saved, we want to load them into Python using read_csv and pandas.\n",
    "\n",
    "# Create a variable called google, and store in it the path of the csv file that contains your google dataset. \n",
    "# If your dataset is in the same folder as this notebook, the path will simply be the name of the file. \n",
    "google = 'googleplaystore.csv'\n",
    "\n",
    "# Read the csv file into a data frame called Google using the read_csv() pandas method.\n",
    "Google = pd.read_csv(google)\n",
    "\n",
    "# Using the head() pandas method, observe the first three entries.\n",
    "Google.head(3)"
   ]
  },
  {
   "cell_type": "code",
   "execution_count": 3,
   "metadata": {
    "colab": {},
    "colab_type": "code",
    "id": "3AW8EA1wFcuu"
   },
   "outputs": [
    {
     "data": {
      "text/html": [
       "<div>\n",
       "<style scoped>\n",
       "    .dataframe tbody tr th:only-of-type {\n",
       "        vertical-align: middle;\n",
       "    }\n",
       "\n",
       "    .dataframe tbody tr th {\n",
       "        vertical-align: top;\n",
       "    }\n",
       "\n",
       "    .dataframe thead th {\n",
       "        text-align: right;\n",
       "    }\n",
       "</style>\n",
       "<table border=\"1\" class=\"dataframe\">\n",
       "  <thead>\n",
       "    <tr style=\"text-align: right;\">\n",
       "      <th></th>\n",
       "      <th>Unnamed: 0</th>\n",
       "      <th>id</th>\n",
       "      <th>track_name</th>\n",
       "      <th>size_bytes</th>\n",
       "      <th>currency</th>\n",
       "      <th>price</th>\n",
       "      <th>rating_count_tot</th>\n",
       "      <th>rating_count_ver</th>\n",
       "      <th>user_rating</th>\n",
       "      <th>user_rating_ver</th>\n",
       "      <th>ver</th>\n",
       "      <th>cont_rating</th>\n",
       "      <th>prime_genre</th>\n",
       "      <th>sup_devices.num</th>\n",
       "      <th>ipadSc_urls.num</th>\n",
       "      <th>lang.num</th>\n",
       "      <th>vpp_lic</th>\n",
       "    </tr>\n",
       "  </thead>\n",
       "  <tbody>\n",
       "    <tr>\n",
       "      <th>0</th>\n",
       "      <td>1</td>\n",
       "      <td>281656475</td>\n",
       "      <td>PAC-MAN Premium</td>\n",
       "      <td>100788224</td>\n",
       "      <td>USD</td>\n",
       "      <td>3.99</td>\n",
       "      <td>21292</td>\n",
       "      <td>26</td>\n",
       "      <td>4.0</td>\n",
       "      <td>4.5</td>\n",
       "      <td>6.3.5</td>\n",
       "      <td>4+</td>\n",
       "      <td>Games</td>\n",
       "      <td>38</td>\n",
       "      <td>5</td>\n",
       "      <td>10</td>\n",
       "      <td>1</td>\n",
       "    </tr>\n",
       "    <tr>\n",
       "      <th>1</th>\n",
       "      <td>2</td>\n",
       "      <td>281796108</td>\n",
       "      <td>Evernote - stay organized</td>\n",
       "      <td>158578688</td>\n",
       "      <td>USD</td>\n",
       "      <td>0.00</td>\n",
       "      <td>161065</td>\n",
       "      <td>26</td>\n",
       "      <td>4.0</td>\n",
       "      <td>3.5</td>\n",
       "      <td>8.2.2</td>\n",
       "      <td>4+</td>\n",
       "      <td>Productivity</td>\n",
       "      <td>37</td>\n",
       "      <td>5</td>\n",
       "      <td>23</td>\n",
       "      <td>1</td>\n",
       "    </tr>\n",
       "    <tr>\n",
       "      <th>2</th>\n",
       "      <td>3</td>\n",
       "      <td>281940292</td>\n",
       "      <td>WeatherBug - Local Weather, Radar, Maps, Alerts</td>\n",
       "      <td>100524032</td>\n",
       "      <td>USD</td>\n",
       "      <td>0.00</td>\n",
       "      <td>188583</td>\n",
       "      <td>2822</td>\n",
       "      <td>3.5</td>\n",
       "      <td>4.5</td>\n",
       "      <td>5.0.0</td>\n",
       "      <td>4+</td>\n",
       "      <td>Weather</td>\n",
       "      <td>37</td>\n",
       "      <td>5</td>\n",
       "      <td>3</td>\n",
       "      <td>1</td>\n",
       "    </tr>\n",
       "  </tbody>\n",
       "</table>\n",
       "</div>"
      ],
      "text/plain": [
       "   Unnamed: 0         id                                       track_name  \\\n",
       "0           1  281656475                                  PAC-MAN Premium   \n",
       "1           2  281796108                        Evernote - stay organized   \n",
       "2           3  281940292  WeatherBug - Local Weather, Radar, Maps, Alerts   \n",
       "\n",
       "   size_bytes currency  price  rating_count_tot  rating_count_ver  \\\n",
       "0   100788224      USD   3.99             21292                26   \n",
       "1   158578688      USD   0.00            161065                26   \n",
       "2   100524032      USD   0.00            188583              2822   \n",
       "\n",
       "   user_rating  user_rating_ver    ver cont_rating   prime_genre  \\\n",
       "0          4.0              4.5  6.3.5          4+         Games   \n",
       "1          4.0              3.5  8.2.2          4+  Productivity   \n",
       "2          3.5              4.5  5.0.0          4+       Weather   \n",
       "\n",
       "   sup_devices.num  ipadSc_urls.num  lang.num  vpp_lic  \n",
       "0               38                5        10        1  \n",
       "1               37                5        23        1  \n",
       "2               37                5         3        1  "
      ]
     },
     "execution_count": 3,
     "metadata": {},
     "output_type": "execute_result"
    }
   ],
   "source": [
    "# Create a variable called apple, and store in it the path of the csv file that contains your apple dataset. \n",
    "apple = 'AppleStore.csv'\n",
    "\n",
    "# Read the csv file into a pandas DataFrame object called Apple.\n",
    "Apple = pd.read_csv(apple)\n",
    "\n",
    "# Observe the first three entries like you did with your other data. \n",
    "Apple.head(3)"
   ]
  },
  {
   "cell_type": "markdown",
   "metadata": {
    "colab_type": "text",
    "id": "vljOHKNTFcuw"
   },
   "source": [
    "### 1b. Pick the columns we'll work with\n",
    "\n",
    "From the documentation of these datasets, we can infer that the most appropriate columns to answer the brief are:\n",
    "\n",
    "1. Google:\n",
    "    * `Category` # Do we need this?\n",
    "    * `Rating`\n",
    "    * `Reviews`\n",
    "    * `Price` (maybe)\n",
    "2. Apple:    \n",
    "    * `prime_genre` # Do we need this?\n",
    "    * `user_rating` \n",
    "    * `rating_count_tot`\n",
    "    * `price` (maybe)"
   ]
  },
  {
   "cell_type": "markdown",
   "metadata": {
    "colab_type": "text",
    "id": "uf69AeTvFcux"
   },
   "source": [
    "### 1c. Subsetting accordingly\n",
    "\n",
    "Let's select only those columns that we want to work with from both datasets. We'll overwrite the subsets in the original variables."
   ]
  },
  {
   "cell_type": "code",
   "execution_count": 4,
   "metadata": {
    "colab": {},
    "colab_type": "code",
    "id": "LNSDXyjdFcuy"
   },
   "outputs": [
    {
     "data": {
      "text/html": [
       "<div>\n",
       "<style scoped>\n",
       "    .dataframe tbody tr th:only-of-type {\n",
       "        vertical-align: middle;\n",
       "    }\n",
       "\n",
       "    .dataframe tbody tr th {\n",
       "        vertical-align: top;\n",
       "    }\n",
       "\n",
       "    .dataframe thead th {\n",
       "        text-align: right;\n",
       "    }\n",
       "</style>\n",
       "<table border=\"1\" class=\"dataframe\">\n",
       "  <thead>\n",
       "    <tr style=\"text-align: right;\">\n",
       "      <th></th>\n",
       "      <th>Category</th>\n",
       "      <th>Rating</th>\n",
       "      <th>Reviews</th>\n",
       "      <th>Price</th>\n",
       "    </tr>\n",
       "  </thead>\n",
       "  <tbody>\n",
       "    <tr>\n",
       "      <th>0</th>\n",
       "      <td>ART_AND_DESIGN</td>\n",
       "      <td>4.1</td>\n",
       "      <td>159</td>\n",
       "      <td>0</td>\n",
       "    </tr>\n",
       "    <tr>\n",
       "      <th>1</th>\n",
       "      <td>ART_AND_DESIGN</td>\n",
       "      <td>3.9</td>\n",
       "      <td>967</td>\n",
       "      <td>0</td>\n",
       "    </tr>\n",
       "    <tr>\n",
       "      <th>2</th>\n",
       "      <td>ART_AND_DESIGN</td>\n",
       "      <td>4.7</td>\n",
       "      <td>87510</td>\n",
       "      <td>0</td>\n",
       "    </tr>\n",
       "  </tbody>\n",
       "</table>\n",
       "</div>"
      ],
      "text/plain": [
       "         Category  Rating Reviews Price\n",
       "0  ART_AND_DESIGN     4.1     159     0\n",
       "1  ART_AND_DESIGN     3.9     967     0\n",
       "2  ART_AND_DESIGN     4.7   87510     0"
      ]
     },
     "execution_count": 4,
     "metadata": {},
     "output_type": "execute_result"
    }
   ],
   "source": [
    "# Subset our DataFrame object Google by selecting just the variables ['Category', 'Rating', 'Reviews', 'Price']\n",
    "Google = Google[['Category', 'Rating', 'Reviews', 'Price']]\n",
    "\n",
    "# Check the first three entries\n",
    "Google.head(3)"
   ]
  },
  {
   "cell_type": "code",
   "execution_count": 5,
   "metadata": {
    "colab": {},
    "colab_type": "code",
    "id": "AVCtENPtFcu0"
   },
   "outputs": [
    {
     "data": {
      "text/html": [
       "<div>\n",
       "<style scoped>\n",
       "    .dataframe tbody tr th:only-of-type {\n",
       "        vertical-align: middle;\n",
       "    }\n",
       "\n",
       "    .dataframe tbody tr th {\n",
       "        vertical-align: top;\n",
       "    }\n",
       "\n",
       "    .dataframe thead th {\n",
       "        text-align: right;\n",
       "    }\n",
       "</style>\n",
       "<table border=\"1\" class=\"dataframe\">\n",
       "  <thead>\n",
       "    <tr style=\"text-align: right;\">\n",
       "      <th></th>\n",
       "      <th>prime_genre</th>\n",
       "      <th>user_rating</th>\n",
       "      <th>rating_count_tot</th>\n",
       "      <th>price</th>\n",
       "    </tr>\n",
       "  </thead>\n",
       "  <tbody>\n",
       "    <tr>\n",
       "      <th>0</th>\n",
       "      <td>Games</td>\n",
       "      <td>4.0</td>\n",
       "      <td>21292</td>\n",
       "      <td>3.99</td>\n",
       "    </tr>\n",
       "    <tr>\n",
       "      <th>1</th>\n",
       "      <td>Productivity</td>\n",
       "      <td>4.0</td>\n",
       "      <td>161065</td>\n",
       "      <td>0.00</td>\n",
       "    </tr>\n",
       "    <tr>\n",
       "      <th>2</th>\n",
       "      <td>Weather</td>\n",
       "      <td>3.5</td>\n",
       "      <td>188583</td>\n",
       "      <td>0.00</td>\n",
       "    </tr>\n",
       "  </tbody>\n",
       "</table>\n",
       "</div>"
      ],
      "text/plain": [
       "    prime_genre  user_rating  rating_count_tot  price\n",
       "0         Games          4.0             21292   3.99\n",
       "1  Productivity          4.0            161065   0.00\n",
       "2       Weather          3.5            188583   0.00"
      ]
     },
     "execution_count": 5,
     "metadata": {},
     "output_type": "execute_result"
    }
   ],
   "source": [
    "# Do the same with our Apple object, selecting just the variables ['prime_genre', 'user_rating', 'rating_count_tot', 'price']\n",
    "Apple = Apple[['prime_genre', 'user_rating', 'rating_count_tot', 'price']]\n",
    "# Let's check the first three entries\n",
    "Apple.head(3)"
   ]
  },
  {
   "cell_type": "markdown",
   "metadata": {
    "colab_type": "text",
    "id": "wwK2wH-rFcu2"
   },
   "source": [
    "## Stage 2 -  Cleaning, transforming and visualizing"
   ]
  },
  {
   "cell_type": "markdown",
   "metadata": {
    "colab_type": "text",
    "id": "NsoE5x0JFcu3"
   },
   "source": [
    "### 2a. Check the data types for both Apple and Google, and fix them\n",
    "\n",
    "Types are crucial for data science in Python. Let's determine whether the variables we selected in the previous section belong to the types they should do, or whether there are any errors here. "
   ]
  },
  {
   "cell_type": "code",
   "execution_count": 6,
   "metadata": {
    "colab": {},
    "colab_type": "code",
    "id": "ymw10SaWFcu4"
   },
   "outputs": [
    {
     "name": "stdout",
     "output_type": "stream",
     "text": [
      "<class 'pandas.core.frame.DataFrame'>\n",
      "RangeIndex: 7197 entries, 0 to 7196\n",
      "Data columns (total 4 columns):\n",
      " #   Column            Non-Null Count  Dtype  \n",
      "---  ------            --------------  -----  \n",
      " 0   prime_genre       7197 non-null   object \n",
      " 1   user_rating       7197 non-null   float64\n",
      " 2   rating_count_tot  7197 non-null   int64  \n",
      " 3   price             7197 non-null   float64\n",
      "dtypes: float64(2), int64(1), object(1)\n",
      "memory usage: 225.0+ KB\n"
     ]
    }
   ],
   "source": [
    "# Using the dtypes feature of pandas DataFrame objects, check out the data types within our Apple dataframe.\n",
    "# Are they what you expect?\n",
    "Apple.info()"
   ]
  },
  {
   "cell_type": "markdown",
   "metadata": {
    "colab_type": "text",
    "id": "VAiM6jIxFcu6"
   },
   "source": [
    "This is looking healthy. But what about our Google data frame?"
   ]
  },
  {
   "cell_type": "code",
   "execution_count": 7,
   "metadata": {
    "colab": {},
    "colab_type": "code",
    "id": "kmP8MhqyFcu7"
   },
   "outputs": [
    {
     "name": "stdout",
     "output_type": "stream",
     "text": [
      "<class 'pandas.core.frame.DataFrame'>\n",
      "RangeIndex: 10841 entries, 0 to 10840\n",
      "Data columns (total 4 columns):\n",
      " #   Column    Non-Null Count  Dtype  \n",
      "---  ------    --------------  -----  \n",
      " 0   Category  10841 non-null  object \n",
      " 1   Rating    9367 non-null   float64\n",
      " 2   Reviews   10841 non-null  object \n",
      " 3   Price     10841 non-null  object \n",
      "dtypes: float64(1), object(3)\n",
      "memory usage: 338.9+ KB\n"
     ]
    }
   ],
   "source": [
    "# Using the same dtypes feature, check out the data types of our Google dataframe. \n",
    "Google.info()"
   ]
  },
  {
   "cell_type": "markdown",
   "metadata": {
    "colab_type": "text",
    "id": "O-dxAy0WFcu9"
   },
   "source": [
    "Weird. The data type for the column 'Price' is 'object', not a numeric data type like a float or an integer. Let's investigate the unique values of this column. "
   ]
  },
  {
   "cell_type": "code",
   "execution_count": 8,
   "metadata": {
    "colab": {},
    "colab_type": "code",
    "id": "Hu08K9y7Fcu9"
   },
   "outputs": [
    {
     "data": {
      "text/plain": [
       "array(['0', '$4.99', '$3.99', '$6.99', '$1.49', '$2.99', '$7.99', '$5.99',\n",
       "       '$3.49', '$1.99', '$9.99', '$7.49', '$0.99', '$9.00', '$5.49',\n",
       "       '$10.00', '$24.99', '$11.99', '$79.99', '$16.99', '$14.99',\n",
       "       '$1.00', '$29.99', '$12.99', '$2.49', '$10.99', '$1.50', '$19.99',\n",
       "       '$15.99', '$33.99', '$74.99', '$39.99', '$3.95', '$4.49', '$1.70',\n",
       "       '$8.99', '$2.00', '$3.88', '$25.99', '$399.99', '$17.99',\n",
       "       '$400.00', '$3.02', '$1.76', '$4.84', '$4.77', '$1.61', '$2.50',\n",
       "       '$1.59', '$6.49', '$1.29', '$5.00', '$13.99', '$299.99', '$379.99',\n",
       "       '$37.99', '$18.99', '$389.99', '$19.90', '$8.49', '$1.75',\n",
       "       '$14.00', '$4.85', '$46.99', '$109.99', '$154.99', '$3.08',\n",
       "       '$2.59', '$4.80', '$1.96', '$19.40', '$3.90', '$4.59', '$15.46',\n",
       "       '$3.04', '$4.29', '$2.60', '$3.28', '$4.60', '$28.99', '$2.95',\n",
       "       '$2.90', '$1.97', '$200.00', '$89.99', '$2.56', '$30.99', '$3.61',\n",
       "       '$394.99', '$1.26', 'Everyone', '$1.20', '$1.04'], dtype=object)"
      ]
     },
     "execution_count": 8,
     "metadata": {},
     "output_type": "execute_result"
    }
   ],
   "source": [
    "# Use the unique() pandas method on the Price column to check its unique values. \n",
    "Google.Price.unique()"
   ]
  },
  {
   "cell_type": "markdown",
   "metadata": {
    "colab_type": "text",
    "id": "w_7nkogFFcu_"
   },
   "source": [
    "Aha! Fascinating. There are actually two issues here. \n",
    "\n",
    "- Firstly, there's a price called `Everyone`. That is a massive mistake! \n",
    "- Secondly, there are dollar symbols everywhere! \n",
    "\n",
    "\n",
    "Let's address the first issue first. Let's check the datapoints that have the price value `Everyone`"
   ]
  },
  {
   "cell_type": "code",
   "execution_count": 9,
   "metadata": {
    "colab": {},
    "colab_type": "code",
    "id": "E75WWmhdFcvA"
   },
   "outputs": [
    {
     "data": {
      "text/html": [
       "<div>\n",
       "<style scoped>\n",
       "    .dataframe tbody tr th:only-of-type {\n",
       "        vertical-align: middle;\n",
       "    }\n",
       "\n",
       "    .dataframe tbody tr th {\n",
       "        vertical-align: top;\n",
       "    }\n",
       "\n",
       "    .dataframe thead th {\n",
       "        text-align: right;\n",
       "    }\n",
       "</style>\n",
       "<table border=\"1\" class=\"dataframe\">\n",
       "  <thead>\n",
       "    <tr style=\"text-align: right;\">\n",
       "      <th></th>\n",
       "      <th>Category</th>\n",
       "      <th>Rating</th>\n",
       "      <th>Reviews</th>\n",
       "      <th>Price</th>\n",
       "    </tr>\n",
       "  </thead>\n",
       "  <tbody>\n",
       "    <tr>\n",
       "      <th>10472</th>\n",
       "      <td>1.9</td>\n",
       "      <td>19.0</td>\n",
       "      <td>3.0M</td>\n",
       "      <td>Everyone</td>\n",
       "    </tr>\n",
       "  </tbody>\n",
       "</table>\n",
       "</div>"
      ],
      "text/plain": [
       "      Category  Rating Reviews     Price\n",
       "10472      1.9    19.0    3.0M  Everyone"
      ]
     },
     "execution_count": 9,
     "metadata": {},
     "output_type": "execute_result"
    }
   ],
   "source": [
    "# Let's check which data points have the value 'Everyone' for the 'Price' column by subsetting our Google dataframe.\n",
    "\n",
    "# Subset the Google dataframe on the price column. \n",
    "# To be sure: you want to pick out just those rows whose value for the 'Price' column is just 'Everyone'. \n",
    "Google.query('Price==\"Everyone\"')"
   ]
  },
  {
   "cell_type": "markdown",
   "metadata": {
    "colab_type": "text",
    "id": "ezfLshdRFcvC"
   },
   "source": [
    "Thankfully, it's just one row. We've gotta get rid of it. "
   ]
  },
  {
   "cell_type": "code",
   "execution_count": 10,
   "metadata": {
    "colab": {},
    "colab_type": "code",
    "id": "DBmjUQUkFcvD"
   },
   "outputs": [
    {
     "data": {
      "text/plain": [
       "array(['0', '$4.99', '$3.99', '$6.99', '$1.49', '$2.99', '$7.99', '$5.99',\n",
       "       '$3.49', '$1.99', '$9.99', '$7.49', '$0.99', '$9.00', '$5.49',\n",
       "       '$10.00', '$24.99', '$11.99', '$79.99', '$16.99', '$14.99',\n",
       "       '$1.00', '$29.99', '$12.99', '$2.49', '$10.99', '$1.50', '$19.99',\n",
       "       '$15.99', '$33.99', '$74.99', '$39.99', '$3.95', '$4.49', '$1.70',\n",
       "       '$8.99', '$2.00', '$3.88', '$25.99', '$399.99', '$17.99',\n",
       "       '$400.00', '$3.02', '$1.76', '$4.84', '$4.77', '$1.61', '$2.50',\n",
       "       '$1.59', '$6.49', '$1.29', '$5.00', '$13.99', '$299.99', '$379.99',\n",
       "       '$37.99', '$18.99', '$389.99', '$19.90', '$8.49', '$1.75',\n",
       "       '$14.00', '$4.85', '$46.99', '$109.99', '$154.99', '$3.08',\n",
       "       '$2.59', '$4.80', '$1.96', '$19.40', '$3.90', '$4.59', '$15.46',\n",
       "       '$3.04', '$4.29', '$2.60', '$3.28', '$4.60', '$28.99', '$2.95',\n",
       "       '$2.90', '$1.97', '$200.00', '$89.99', '$2.56', '$30.99', '$3.61',\n",
       "       '$394.99', '$1.26', '$1.20', '$1.04'], dtype=object)"
      ]
     },
     "execution_count": 10,
     "metadata": {},
     "output_type": "execute_result"
    }
   ],
   "source": [
    "# Let's eliminate that row. \n",
    "\n",
    "# Subset our Google dataframe to pick out just those rows whose value for the 'Price' column is NOT 'Everyone'. \n",
    "# Reassign that subset to the Google variable. \n",
    "# You can do this in two lines or one. Your choice! \n",
    "Google = Google.query('Price!=\"Everyone\"')\n",
    "\n",
    "# Check again the unique values of Google\n",
    "Google.Price.unique()"
   ]
  },
  {
   "cell_type": "markdown",
   "metadata": {
    "colab_type": "text",
    "id": "T43TB4qFFcvF"
   },
   "source": [
    "Our second problem remains: I'm seeing dollar symbols when I close my eyes! (And not in a good way). \n",
    "\n",
    "This is a problem because Python actually considers these values strings. So we can't do mathematical and statistical operations on them until we've made them into numbers. "
   ]
  },
  {
   "cell_type": "code",
   "execution_count": 11,
   "metadata": {
    "colab": {},
    "colab_type": "code",
    "id": "W87gVS9BFcvG"
   },
   "outputs": [],
   "source": [
    "# Let's create a variable called nosymb.\n",
    "# This variable will take the Price column of Google and apply the str.replace() method. \n",
    "\n",
    "\n",
    "# Now we need to do two things:\n",
    "# i. Make the values in the nosymb variable numeric using the to_numeric() pandas method.\n",
    "# ii. Assign this new set of numeric, dollar-sign-less values to Google['Price']. \n",
    "# You can do this in one line if you wish.\n",
    "Google['Price'] = pd.to_numeric(Google.Price.str.replace('$',''))"
   ]
  },
  {
   "cell_type": "markdown",
   "metadata": {
    "colab_type": "text",
    "id": "LxpJQ9yyFcvI"
   },
   "source": [
    "Now let's check the data types for our Google dataframe again, to verify that the 'Price' column really is numeric now."
   ]
  },
  {
   "cell_type": "code",
   "execution_count": 12,
   "metadata": {
    "colab": {},
    "colab_type": "code",
    "id": "Fn5Gt-QbFcvI"
   },
   "outputs": [
    {
     "data": {
      "text/plain": [
       "dtype('float64')"
      ]
     },
     "execution_count": 12,
     "metadata": {},
     "output_type": "execute_result"
    }
   ],
   "source": [
    "# Use the function dtypes. \n",
    "Google.Price.dtype"
   ]
  },
  {
   "cell_type": "markdown",
   "metadata": {
    "colab_type": "text",
    "id": "FgfuiVo0FcvK"
   },
   "source": [
    "Notice that the column `Reviews` is still an object column. We actually need this column to be a numeric column, too. "
   ]
  },
  {
   "cell_type": "code",
   "execution_count": 13,
   "metadata": {
    "colab": {},
    "colab_type": "code",
    "id": "MiVEWsWBFcvL"
   },
   "outputs": [],
   "source": [
    "# Convert the 'Reviews' column to a numeric data type. \n",
    "Google['Reviews'] = pd.to_numeric(Google.Reviews)"
   ]
  },
  {
   "cell_type": "code",
   "execution_count": 14,
   "metadata": {
    "colab": {},
    "colab_type": "code",
    "id": "wWJdXXTTFcvN"
   },
   "outputs": [
    {
     "data": {
      "text/plain": [
       "dtype('int64')"
      ]
     },
     "execution_count": 14,
     "metadata": {},
     "output_type": "execute_result"
    }
   ],
   "source": [
    "# Let's check the data types of Google again\n",
    "Google.Reviews.dtype"
   ]
  },
  {
   "cell_type": "markdown",
   "metadata": {
    "colab_type": "text",
    "id": "OiLm2GEKFcvP"
   },
   "source": [
    "### 2b. Add a `platform` column to both the `Apple` and the `Google` dataframes\n",
    "Let's add a new column to both dataframe objects called `platform`: all of its values in the Google dataframe will be just 'google', and all of its values for the Apple dataframe will be just 'apple'. \n",
    "\n",
    "The reason we're making this column is so that we can ultimately join our Apple and Google data together, and actually test out some hypotheses to solve the problem in our brief. "
   ]
  },
  {
   "cell_type": "code",
   "execution_count": 17,
   "metadata": {
    "colab": {},
    "colab_type": "code",
    "id": "mF-sOcx2FcvQ"
   },
   "outputs": [],
   "source": [
    "# Create a column called 'platform' in both the Apple and Google dataframes. \n",
    "# Add the value 'apple' and the value 'google' as appropriate. \n",
    "Apple = Apple.assign(platform = 'apple')\n",
    "Google = Google.assign(platform = 'google')"
   ]
  },
  {
   "cell_type": "markdown",
   "metadata": {
    "colab_type": "text",
    "id": "EJcry17IFcvS"
   },
   "source": [
    "### 2c. Changing the column names to prepare for our join of the two datasets \n",
    "Since the easiest way to join two datasets is if they have both:\n",
    "- the same number of columns\n",
    "- the same column names\n",
    "we need to rename the columns of `Apple` so that they're the same as the ones of `Google`, or vice versa.\n",
    "\n",
    "In this case, we're going to change the `Apple` columns names to the names of the `Google` columns. \n",
    "\n",
    "This is an important step to unify the two datasets!"
   ]
  },
  {
   "cell_type": "code",
   "execution_count": 18,
   "metadata": {
    "colab": {},
    "colab_type": "code",
    "id": "bdt9XH2KFcvT"
   },
   "outputs": [
    {
     "data": {
      "text/plain": [
       "Index(['Category', 'Rating', 'Reviews', 'Price', 'platform'], dtype='object')"
      ]
     },
     "execution_count": 18,
     "metadata": {},
     "output_type": "execute_result"
    }
   ],
   "source": [
    "# Create a variable called old_names where you'll store the column names of the Apple dataframe. \n",
    "# Use the feature .columns.\n",
    "old_names = Apple.columns\n",
    "# Create a variable called new_names where you'll store the column names of the Google dataframe. \n",
    "new_names = Google.columns\n",
    "# Use the rename() DataFrame method to change the columns names. \n",
    "Apple.columns = new_names\n",
    "Apple.columns"
   ]
  },
  {
   "cell_type": "markdown",
   "metadata": {
    "colab_type": "text",
    "id": "qewPiLrRFcvX"
   },
   "source": [
    "### 2d. Join the two datasets \n",
    "Let's combine the two datasets into a single data frame called `df`."
   ]
  },
  {
   "cell_type": "code",
   "execution_count": 21,
   "metadata": {
    "colab": {},
    "colab_type": "code",
    "id": "jq6fGfvyFcvY"
   },
   "outputs": [
    {
     "data": {
      "text/html": [
       "<div>\n",
       "<style scoped>\n",
       "    .dataframe tbody tr th:only-of-type {\n",
       "        vertical-align: middle;\n",
       "    }\n",
       "\n",
       "    .dataframe tbody tr th {\n",
       "        vertical-align: top;\n",
       "    }\n",
       "\n",
       "    .dataframe thead th {\n",
       "        text-align: right;\n",
       "    }\n",
       "</style>\n",
       "<table border=\"1\" class=\"dataframe\">\n",
       "  <thead>\n",
       "    <tr style=\"text-align: right;\">\n",
       "      <th></th>\n",
       "      <th>Category</th>\n",
       "      <th>Rating</th>\n",
       "      <th>Reviews</th>\n",
       "      <th>Price</th>\n",
       "      <th>platform</th>\n",
       "    </tr>\n",
       "  </thead>\n",
       "  <tbody>\n",
       "    <tr>\n",
       "      <th>2812</th>\n",
       "      <td>PHOTOGRAPHY</td>\n",
       "      <td>4.7</td>\n",
       "      <td>259450</td>\n",
       "      <td>0.00</td>\n",
       "      <td>google</td>\n",
       "    </tr>\n",
       "    <tr>\n",
       "      <th>1816</th>\n",
       "      <td>Sports</td>\n",
       "      <td>3.5</td>\n",
       "      <td>50</td>\n",
       "      <td>2.99</td>\n",
       "      <td>apple</td>\n",
       "    </tr>\n",
       "    <tr>\n",
       "      <th>3833</th>\n",
       "      <td>Medical</td>\n",
       "      <td>5.0</td>\n",
       "      <td>1198</td>\n",
       "      <td>0.00</td>\n",
       "      <td>apple</td>\n",
       "    </tr>\n",
       "    <tr>\n",
       "      <th>2177</th>\n",
       "      <td>Games</td>\n",
       "      <td>5.0</td>\n",
       "      <td>370370</td>\n",
       "      <td>0.00</td>\n",
       "      <td>apple</td>\n",
       "    </tr>\n",
       "    <tr>\n",
       "      <th>10134</th>\n",
       "      <td>PRODUCTIVITY</td>\n",
       "      <td>3.5</td>\n",
       "      <td>626</td>\n",
       "      <td>0.00</td>\n",
       "      <td>google</td>\n",
       "    </tr>\n",
       "    <tr>\n",
       "      <th>6528</th>\n",
       "      <td>Entertainment</td>\n",
       "      <td>1.5</td>\n",
       "      <td>96</td>\n",
       "      <td>2.99</td>\n",
       "      <td>apple</td>\n",
       "    </tr>\n",
       "    <tr>\n",
       "      <th>284</th>\n",
       "      <td>Education</td>\n",
       "      <td>4.5</td>\n",
       "      <td>13482</td>\n",
       "      <td>0.00</td>\n",
       "      <td>apple</td>\n",
       "    </tr>\n",
       "    <tr>\n",
       "      <th>5583</th>\n",
       "      <td>FAMILY</td>\n",
       "      <td>4.1</td>\n",
       "      <td>1407</td>\n",
       "      <td>0.00</td>\n",
       "      <td>google</td>\n",
       "    </tr>\n",
       "    <tr>\n",
       "      <th>5826</th>\n",
       "      <td>GAME</td>\n",
       "      <td>4.0</td>\n",
       "      <td>82</td>\n",
       "      <td>0.00</td>\n",
       "      <td>google</td>\n",
       "    </tr>\n",
       "    <tr>\n",
       "      <th>7661</th>\n",
       "      <td>FINANCE</td>\n",
       "      <td>4.4</td>\n",
       "      <td>137</td>\n",
       "      <td>0.00</td>\n",
       "      <td>google</td>\n",
       "    </tr>\n",
       "    <tr>\n",
       "      <th>2218</th>\n",
       "      <td>FAMILY</td>\n",
       "      <td>4.3</td>\n",
       "      <td>528745</td>\n",
       "      <td>0.00</td>\n",
       "      <td>google</td>\n",
       "    </tr>\n",
       "    <tr>\n",
       "      <th>1353</th>\n",
       "      <td>Games</td>\n",
       "      <td>3.5</td>\n",
       "      <td>2798</td>\n",
       "      <td>2.99</td>\n",
       "      <td>apple</td>\n",
       "    </tr>\n",
       "  </tbody>\n",
       "</table>\n",
       "</div>"
      ],
      "text/plain": [
       "            Category  Rating  Reviews  Price platform\n",
       "2812     PHOTOGRAPHY     4.7   259450   0.00   google\n",
       "1816          Sports     3.5       50   2.99    apple\n",
       "3833         Medical     5.0     1198   0.00    apple\n",
       "2177           Games     5.0   370370   0.00    apple\n",
       "10134   PRODUCTIVITY     3.5      626   0.00   google\n",
       "6528   Entertainment     1.5       96   2.99    apple\n",
       "284        Education     4.5    13482   0.00    apple\n",
       "5583          FAMILY     4.1     1407   0.00   google\n",
       "5826            GAME     4.0       82   0.00   google\n",
       "7661         FINANCE     4.4      137   0.00   google\n",
       "2218          FAMILY     4.3   528745   0.00   google\n",
       "1353           Games     3.5     2798   2.99    apple"
      ]
     },
     "execution_count": 21,
     "metadata": {},
     "output_type": "execute_result"
    }
   ],
   "source": [
    "# Let's use the append() method to append Apple to Google. \n",
    "df = pd.concat([Google, Apple])\n",
    "# Using the sample() method with the number 12 passed to it, check 12 random points of your dataset.\n",
    "df.sample(12)"
   ]
  },
  {
   "cell_type": "markdown",
   "metadata": {
    "colab_type": "text",
    "id": "FjqsHugWFcvb"
   },
   "source": [
    "### 2e. Eliminate the NaN values\n",
    "\n",
    "As you can see there are some `NaN` values. We want to eliminate all these `NaN` values from the table."
   ]
  },
  {
   "cell_type": "code",
   "execution_count": 23,
   "metadata": {
    "colab": {},
    "colab_type": "code",
    "id": "Gp2q6GLyFcvb"
   },
   "outputs": [
    {
     "name": "stdout",
     "output_type": "stream",
     "text": [
      "(18037, 5)\n",
      "(16563, 5)\n"
     ]
    }
   ],
   "source": [
    "# Lets check first the dimesions of df before droping `NaN` values. Use the .shape feature. \n",
    "print(df.shape)\n",
    "\n",
    "# Use the dropna() method to eliminate all the NaN values, and overwrite the same dataframe with the result. \n",
    "df.dropna(inplace=True)\n",
    "# Check the new dimesions of our dataframe. \n",
    "print(df.shape)"
   ]
  },
  {
   "cell_type": "markdown",
   "metadata": {
    "colab_type": "text",
    "id": "qtfeQKtAFcvd"
   },
   "source": [
    "### 2f. Filter the data so that we only see whose apps that have been reviewed at least once\n",
    "\n",
    "Apps that haven't been reviewed yet can't help us solve our brief. \n",
    "\n",
    "So let's check to see if any apps have no reviews at all. "
   ]
  },
  {
   "cell_type": "code",
   "execution_count": 24,
   "metadata": {
    "colab": {},
    "colab_type": "code",
    "id": "Ge9OKXLNFcvd"
   },
   "outputs": [
    {
     "data": {
      "text/plain": [
       "Category    929\n",
       "Rating      929\n",
       "Reviews     929\n",
       "Price       929\n",
       "platform    929\n",
       "dtype: int64"
      ]
     },
     "execution_count": 24,
     "metadata": {},
     "output_type": "execute_result"
    }
   ],
   "source": [
    "# Subset your df to pick out just those rows whose value for 'Reviews' is equal to 0. \n",
    "# Do a count() on the result. \n",
    "df.query('Reviews==0').count()"
   ]
  },
  {
   "cell_type": "markdown",
   "metadata": {
    "colab_type": "text",
    "id": "05f7H0kAFcvg"
   },
   "source": [
    "929 apps do not have reviews, we need to eliminate these points!"
   ]
  },
  {
   "cell_type": "code",
   "execution_count": 25,
   "metadata": {
    "colab": {},
    "colab_type": "code",
    "id": "pD8vmPjkFcvg"
   },
   "outputs": [
    {
     "data": {
      "text/plain": [
       "(15634, 5)"
      ]
     },
     "execution_count": 25,
     "metadata": {},
     "output_type": "execute_result"
    }
   ],
   "source": [
    "# Eliminate the points that have 0 reviews.\n",
    "df = df.query('Reviews!=0')\n",
    "df.shape"
   ]
  },
  {
   "cell_type": "markdown",
   "metadata": {
    "colab_type": "text",
    "id": "ApnKES_bFcvi"
   },
   "source": [
    "### 2g. Summarize the data visually and analytically (by the column `platform`)"
   ]
  },
  {
   "cell_type": "markdown",
   "metadata": {
    "colab_type": "text",
    "id": "2smt9UocFcvj"
   },
   "source": [
    "What we need to solve our brief is a summary of the `Rating` column, but separated by the different platforms."
   ]
  },
  {
   "cell_type": "code",
   "execution_count": 26,
   "metadata": {
    "colab": {},
    "colab_type": "code",
    "id": "Vqckt347Fcvj"
   },
   "outputs": [
    {
     "data": {
      "text/plain": [
       "platform\n",
       "apple     4.049697\n",
       "google    4.191757\n",
       "Name: Rating, dtype: float64"
      ]
     },
     "execution_count": 26,
     "metadata": {},
     "output_type": "execute_result"
    }
   ],
   "source": [
    "# To summarize analytically, let's use the groupby() method on our df.\n",
    "df.groupby('platform').Rating.mean()"
   ]
  },
  {
   "cell_type": "markdown",
   "metadata": {
    "colab_type": "text",
    "id": "8f9TqMtKFcvl"
   },
   "source": [
    "Interesting! Our means of 4.049697 and 4.191757 don't **seem** all that different! Perhaps we've solved our brief already: there's no significant difference between Google Play app reviews and Apple Store app reviews. We have an ***observed difference*** here: which is simply (4.191757 - 4.049697) = 0.14206. This is just the actual difference that we observed between the mean rating for apps from Google Play, and the mean rating for apps from the Apple Store. Let's look at how we're going to use this observed difference to solve our problem using a statistical test. \n",
    "\n",
    "**Outline of our method:**\n",
    "1. We'll assume that platform (i.e, whether the app was Google or Apple) really doesn’t impact on ratings. \n",
    "\n",
    "\n",
    "2. Given this assumption, we should actually be able to get a difference in mean rating for Apple apps and mean rating for Google apps that's pretty similar to the one we actually got (0.14206) just by: \n",
    "a. shuffling the ratings column, \n",
    "b. keeping the platform column the same,\n",
    "c. calculating the difference between the mean rating for Apple and the mean rating for Google. \n",
    "\n",
    "\n",
    "3. We can make the shuffle more useful by doing it many times, each time calculating the mean rating for Apple apps and the mean rating for Google apps, and the difference between these means. \n",
    "\n",
    "\n",
    "4. We can then take the mean of all these differences, and this will be called our permutation difference. This permutation difference will be great indicator of what the difference would be if our initial assumption were true and platform really doesn’t impact on ratings. \n",
    "\n",
    "\n",
    "5. Now we do a comparison. If the observed difference looks just like the permutation difference, then we stick with the claim that actually, platform doesn’t impact on ratings. If instead, however, the permutation difference differs significantly from the observed difference, we'll conclude: something's going on; the platform does in fact impact on ratings. \n",
    "\n",
    "\n",
    "6. As for what the definition of *significantly* is, we'll get to that. But there’s a brief summary of what we're going to do. Exciting!\n",
    "\n",
    "If you want to look more deeply at the statistics behind this project, check out [this resource](https://www.springboard.com/archeio/download/4ea4d453b0b84014bcef287c50f47f00/)."
   ]
  },
  {
   "cell_type": "markdown",
   "metadata": {
    "colab_type": "text",
    "id": "d6EhTxArFcvm"
   },
   "source": [
    "Let's also get a **visual summary** of the `Rating` column, separated by the different platforms. \n",
    "\n",
    "A good tool to use here is the boxplot!"
   ]
  },
  {
   "cell_type": "code",
   "execution_count": 42,
   "metadata": {
    "colab": {},
    "colab_type": "code",
    "id": "hFKjrlWgFcvm"
   },
   "outputs": [
    {
     "data": {
      "image/png": "[encoded data removed]",
      "text/plain": [
       "<Figure size 640x480 with 1 Axes>"
      ]
     },
     "metadata": {},
     "output_type": "display_data"
    }
   ],
   "source": [
    "# Call the boxplot() method on our df.\n",
    "sns.boxplot(data=df, x='platform', y='Rating')\n",
    "plt.show()"
   ]
  },
  {
   "cell_type": "markdown",
   "metadata": {
    "colab_type": "text",
    "id": "FqTlAjnmFcvo"
   },
   "source": [
    "Here we see the same information as in the analytical summary, but with a boxplot. Can you see how the boxplot is working here? If you need to revise your boxplots, check out this this [link](https://www.kaggle.com/ramamet4/app-store-apple-data-set-10k-apps). "
   ]
  },
  {
   "cell_type": "markdown",
   "metadata": {
    "colab_type": "text",
    "id": "O8L-s1fgFcvp"
   },
   "source": [
    "## Stage 3 - Modelling"
   ]
  },
  {
   "cell_type": "markdown",
   "metadata": {
    "colab_type": "text",
    "id": "5fbRq2MZFcvq"
   },
   "source": [
    "### 3a. Hypothesis formulation\n",
    "\n",
    "Our **Null hypothesis** is just:\n",
    "\n",
    "**H<sub>null</sub>**: the observed difference in the mean rating of Apple Store and Google Play apps is due to chance (and thus not due to the platform).\n",
    "\n",
    "The more interesting hypothesis is called the **Alternate hypothesis**:\n",
    "\n",
    "**H<sub>alternative</sub>**: the observed difference in the average ratings of apple and google users is not due to chance (and is actually due to platform)\n",
    "\n",
    "We're also going to pick a **significance level** of 0.05. "
   ]
  },
  {
   "cell_type": "markdown",
   "metadata": {
    "colab_type": "text",
    "id": "TjBqkabaFcvq"
   },
   "source": [
    "### 3b. Getting the distribution of the data\n",
    "Now that the hypotheses and significance level are defined, we can select a statistical test to determine which hypothesis to accept. \n",
    "\n",
    "There are many different statistical tests, all with different assumptions. You'll generate an excellent judgement about when to use which statistical tests over the Data Science Career Track course. But in general, one of the most important things to determine is the **distribution of the data**.   "
   ]
  },
  {
   "cell_type": "code",
   "execution_count": 31,
   "metadata": {
    "colab": {},
    "colab_type": "code",
    "id": "bFwVhkeWFcvr"
   },
   "outputs": [],
   "source": [
    "# Create a subset of the column 'Rating' by the different platforms.\n",
    "# Call the subsets 'apple' and 'google' \n",
    "apple = df.query('platform==\"apple\"').Rating\n",
    "google = df.query('platform==\"google\"').Rating"
   ]
  },
  {
   "cell_type": "code",
   "execution_count": 33,
   "metadata": {
    "colab": {},
    "colab_type": "code",
    "id": "oPPFpwPvFcvu"
   },
   "outputs": [
    {
     "name": "stdout",
     "output_type": "stream",
     "text": [
      "NormaltestResult(statistic=1778.9974234584017, pvalue=0.0)\n"
     ]
    }
   ],
   "source": [
    "# Using the stats.normaltest() method, get an indication of whether the apple data are normally distributed\n",
    "# Save the result in a variable called apple_normal, and print it out\n",
    "apple_normal = stats.normaltest(apple)\n",
    "print(apple_normal)"
   ]
  },
  {
   "cell_type": "code",
   "execution_count": 34,
   "metadata": {
    "colab": {},
    "colab_type": "code",
    "id": "rCdh8a8KFcvw"
   },
   "outputs": [
    {
     "name": "stdout",
     "output_type": "stream",
     "text": [
      "NormaltestResult(statistic=3678.6157187516856, pvalue=0.0)\n"
     ]
    }
   ],
   "source": [
    "# Do the same with the google data. \n",
    "google_normal = stats.normaltest(google)\n",
    "print(google_normal)"
   ]
  },
  {
   "cell_type": "markdown",
   "metadata": {
    "colab_type": "text",
    "id": "9gDqu21yFcv0"
   },
   "source": [
    "Since the null hypothesis of the normaltest() is that the data are normally distributed, the lower the p-value in the result of this test, the more likely the data are to be non-normal. \n",
    "\n",
    "Since the p-values is 0 for both tests, regardless of what we pick for the significance level, our conclusion is that the data are not normally distributed. \n",
    "\n",
    "We can actually also check out the distribution of the data visually with a histogram. A normal distribution has the following visual characteristics:\n",
    "    - symmetric\n",
    "    - unimodal (one hump)\n",
    "As well as a roughly identical mean, median and mode. "
   ]
  },
  {
   "cell_type": "code",
   "execution_count": 43,
   "metadata": {
    "colab": {},
    "colab_type": "code",
    "id": "P9tT9RjNFcv1"
   },
   "outputs": [
    {
     "data": {
      "image/png": "[encoded data removed]",
      "text/plain": [
       "<Figure size 640x480 with 1 Axes>"
      ]
     },
     "metadata": {},
     "output_type": "display_data"
    }
   ],
   "source": [
    "# Create a histogram of the apple reviews distribution\n",
    "sns.histplot(data=apple, bins=10)\n",
    "plt.title('Apple')\n",
    "plt.show()"
   ]
  },
  {
   "cell_type": "code",
   "execution_count": 44,
   "metadata": {
    "colab": {},
    "colab_type": "code",
    "id": "8dE1uC5iFcv2"
   },
   "outputs": [
    {
     "data": {
      "image/png": "[encoded data removed]",
      "text/plain": [
       "<Figure size 640x480 with 1 Axes>"
      ]
     },
     "metadata": {},
     "output_type": "display_data"
    }
   ],
   "source": [
    "# Create a histogram of the google data\n",
    "sns.histplot(data=google, bins=10)\n",
    "plt.title('Google')\n",
    "plt.show()"
   ]
  },
  {
   "cell_type": "markdown",
   "metadata": {
    "colab_type": "text",
    "id": "QhZV89FzFcv5"
   },
   "source": [
    "### 3c. Permutation test\n",
    "Since the data aren't normally distributed, we're using a *non-parametric* test here. This is simply a label for statistical tests used when the data aren't normally distributed. These tests are extraordinarily powerful due to how few assumptions we need to make.  \n",
    "\n",
    "Check out more about permutations [here.](http://rasbt.github.io/mlxtend/user_guide/evaluate/permutation_test/)"
   ]
  },
  {
   "cell_type": "code",
   "execution_count": 45,
   "metadata": {
    "colab": {},
    "colab_type": "code",
    "id": "bxNhQgpqFcv6"
   },
   "outputs": [
    {
     "data": {
      "text/html": [
       "<div>\n",
       "<style scoped>\n",
       "    .dataframe tbody tr th:only-of-type {\n",
       "        vertical-align: middle;\n",
       "    }\n",
       "\n",
       "    .dataframe tbody tr th {\n",
       "        vertical-align: top;\n",
       "    }\n",
       "\n",
       "    .dataframe thead th {\n",
       "        text-align: right;\n",
       "    }\n",
       "</style>\n",
       "<table border=\"1\" class=\"dataframe\">\n",
       "  <thead>\n",
       "    <tr style=\"text-align: right;\">\n",
       "      <th></th>\n",
       "      <th>count</th>\n",
       "      <th>mean</th>\n",
       "      <th>std</th>\n",
       "      <th>min</th>\n",
       "      <th>25%</th>\n",
       "      <th>50%</th>\n",
       "      <th>75%</th>\n",
       "      <th>max</th>\n",
       "    </tr>\n",
       "    <tr>\n",
       "      <th>platform</th>\n",
       "      <th></th>\n",
       "      <th></th>\n",
       "      <th></th>\n",
       "      <th></th>\n",
       "      <th></th>\n",
       "      <th></th>\n",
       "      <th></th>\n",
       "      <th></th>\n",
       "    </tr>\n",
       "  </thead>\n",
       "  <tbody>\n",
       "    <tr>\n",
       "      <th>apple</th>\n",
       "      <td>6268.0</td>\n",
       "      <td>4.134174</td>\n",
       "      <td>0.621892</td>\n",
       "      <td>1.0</td>\n",
       "      <td>4.0</td>\n",
       "      <td>4.3</td>\n",
       "      <td>4.5</td>\n",
       "      <td>5.0</td>\n",
       "    </tr>\n",
       "    <tr>\n",
       "      <th>google</th>\n",
       "      <td>9366.0</td>\n",
       "      <td>4.135223</td>\n",
       "      <td>0.606930</td>\n",
       "      <td>1.0</td>\n",
       "      <td>4.0</td>\n",
       "      <td>4.3</td>\n",
       "      <td>4.5</td>\n",
       "      <td>5.0</td>\n",
       "    </tr>\n",
       "  </tbody>\n",
       "</table>\n",
       "</div>"
      ],
      "text/plain": [
       "           count      mean       std  min  25%  50%  75%  max\n",
       "platform                                                     \n",
       "apple     6268.0  4.134174  0.621892  1.0  4.0  4.3  4.5  5.0\n",
       "google    9366.0  4.135223  0.606930  1.0  4.0  4.3  4.5  5.0"
      ]
     },
     "execution_count": 45,
     "metadata": {},
     "output_type": "execute_result"
    }
   ],
   "source": [
    "# Create a column called `Permutation1`, and assign to it the result of permuting (shuffling) the Rating column\n",
    "# This assignment will use our numpy object's random.permutation() method\n",
    "df['Permutation1'] = np.random.permutation(df.Rating)\n",
    "# Call the describe() method on our permutation grouped by 'platform'. \n",
    "df.groupby('platform').Permutation1.describe()"
   ]
  },
  {
   "cell_type": "code",
   "execution_count": 46,
   "metadata": {
    "colab": {},
    "colab_type": "code",
    "id": "AaGNfPGTFcv7"
   },
   "outputs": [
    {
     "data": {
      "text/html": [
       "<div>\n",
       "<style scoped>\n",
       "    .dataframe tbody tr th:only-of-type {\n",
       "        vertical-align: middle;\n",
       "    }\n",
       "\n",
       "    .dataframe tbody tr th {\n",
       "        vertical-align: top;\n",
       "    }\n",
       "\n",
       "    .dataframe thead th {\n",
       "        text-align: right;\n",
       "    }\n",
       "</style>\n",
       "<table border=\"1\" class=\"dataframe\">\n",
       "  <thead>\n",
       "    <tr style=\"text-align: right;\">\n",
       "      <th></th>\n",
       "      <th>count</th>\n",
       "      <th>mean</th>\n",
       "      <th>std</th>\n",
       "      <th>min</th>\n",
       "      <th>25%</th>\n",
       "      <th>50%</th>\n",
       "      <th>75%</th>\n",
       "      <th>max</th>\n",
       "    </tr>\n",
       "    <tr>\n",
       "      <th>platform</th>\n",
       "      <th></th>\n",
       "      <th></th>\n",
       "      <th></th>\n",
       "      <th></th>\n",
       "      <th></th>\n",
       "      <th></th>\n",
       "      <th></th>\n",
       "      <th></th>\n",
       "    </tr>\n",
       "  </thead>\n",
       "  <tbody>\n",
       "    <tr>\n",
       "      <th>apple</th>\n",
       "      <td>6268.0</td>\n",
       "      <td>4.049697</td>\n",
       "      <td>0.726943</td>\n",
       "      <td>1.0</td>\n",
       "      <td>4.0</td>\n",
       "      <td>4.5</td>\n",
       "      <td>4.5</td>\n",
       "      <td>5.0</td>\n",
       "    </tr>\n",
       "    <tr>\n",
       "      <th>google</th>\n",
       "      <td>9366.0</td>\n",
       "      <td>4.191757</td>\n",
       "      <td>0.515219</td>\n",
       "      <td>1.0</td>\n",
       "      <td>4.0</td>\n",
       "      <td>4.3</td>\n",
       "      <td>4.5</td>\n",
       "      <td>5.0</td>\n",
       "    </tr>\n",
       "  </tbody>\n",
       "</table>\n",
       "</div>"
      ],
      "text/plain": [
       "           count      mean       std  min  25%  50%  75%  max\n",
       "platform                                                     \n",
       "apple     6268.0  4.049697  0.726943  1.0  4.0  4.5  4.5  5.0\n",
       "google    9366.0  4.191757  0.515219  1.0  4.0  4.3  4.5  5.0"
      ]
     },
     "execution_count": 46,
     "metadata": {},
     "output_type": "execute_result"
    }
   ],
   "source": [
    "# Lets compare with the previous analytical summary:\n",
    "df.groupby('platform').Rating.describe()"
   ]
  },
  {
   "cell_type": "code",
   "execution_count": 49,
   "metadata": {},
   "outputs": [
    {
     "data": {
      "text/plain": [
       "0.1420605474512291"
      ]
     },
     "execution_count": 49,
     "metadata": {},
     "output_type": "execute_result"
    }
   ],
   "source": [
    "df.groupby('platform').Rating.mean()[1]-df.groupby('platform').Rating.mean()[0]"
   ]
  },
  {
   "cell_type": "code",
   "execution_count": 55,
   "metadata": {
    "colab": {},
    "colab_type": "code",
    "id": "aJPNpX0JFcv-"
   },
   "outputs": [],
   "source": [
    "# The difference in the means for Permutation1 (0.001103) now looks hugely different to our observed difference of 0.14206. \n",
    "# It's sure starting to look like our observed difference is significant, and that the Null is false; platform does impact on ratings\n",
    "# But to be sure, let's create 10,000 permutations, calculate the mean ratings for Google and Apple apps and the difference between these for each one, and then take the average of all of these differences.\n",
    "# Let's create a vector with the differences - that will be the distibution of the Null.\n",
    "\n",
    "# First, make a list called difference.\n",
    "difference = []\n",
    "\n",
    "# Now make a for loop that does the following 10,000 times:\n",
    "# 1. makes a permutation of the 'Rating' as you did above\n",
    "# 2. calculates the difference in the mean rating for apple and the mean rating for google. \n",
    "for i in range(10000):\n",
    "    df['Permutation'] = np.random.permutation(df.Rating)\n",
    "    delta_mean = df.groupby('platform').Permutation.mean()[1]-df.groupby('platform').Permutation.mean()[0]\n",
    "    difference.append(delta_mean)\n",
    "    "
   ]
  },
  {
   "cell_type": "code",
   "execution_count": 56,
   "metadata": {},
   "outputs": [
    {
     "data": {
      "text/plain": [
       "[0.005257260541700504,\n",
       " 0.0033664617543580633,\n",
       " -0.011573511762527744,\n",
       " 0.012607407940382842,\n",
       " 0.005310522479372359,\n",
       " 0.004831165040327434,\n",
       " -0.0024923513895194205,\n",
       " 0.008452976801996748,\n",
       " 0.015403659668142389,\n",
       " -0.0025722442960249836,\n",
       " 0.0020881752502397433,\n",
       " 0.00230122300092539,\n",
       " -0.0021461487946536906,\n",
       " -0.015514895150226415,\n",
       " 0.012021526625994206,\n",
       " 0.010663347215368546,\n",
       " 0.0023811159074336175,\n",
       " 0.005496939261222522,\n",
       " 0.004165390819432346,\n",
       " -0.0051288173042634,\n",
       " 0.005257260541700504,\n",
       " 0.0018751274995532086,\n",
       " -0.0033179114234291873,\n",
       " 0.0031534140036724168,\n",
       " -0.004463043083368312,\n",
       " 0.008000250331788195,\n",
       " -0.001586898449101426,\n",
       " 0.010982918841398792,\n",
       " -0.009576189099843369,\n",
       " 0.014764516416082785,\n",
       " 0.003286568847851612,\n",
       " -0.023184614174939,\n",
       " 0.002274592032089906,\n",
       " 0.004990950853343001,\n",
       " 0.006988273516028265,\n",
       " 0.008106774207131018,\n",
       " -0.013863775082406882,\n",
       " 0.0027273185022993474,\n",
       " 0.008958965209877157,\n",
       " -0.0004417667891605248,\n",
       " 0.005443677323550666,\n",
       " -0.008324533564559644,\n",
       " -0.00038850485149044545,\n",
       " 0.007414369017400446,\n",
       " 0.008080143238295534,\n",
       " -0.0016934223244442492,\n",
       " -0.0024657204206830485,\n",
       " -0.0039037927378160475,\n",
       " -0.001746684262116105,\n",
       " 0.01385906347566479,\n",
       " 0.013992218319843985,\n",
       " -0.027605355001682597,\n",
       " 0.00011748355639085162,\n",
       " 0.003552878536209114,\n",
       " -0.020281838571835742,\n",
       " 0.00022400743173367488,\n",
       " 0.01625585067088675,\n",
       " 0.0014224010293446554,\n",
       " 0.006935011578355521,\n",
       " -0.0038771617689805637,\n",
       " -0.012851798266646064,\n",
       " 0.013060134410590507,\n",
       " -0.004755983740562186,\n",
       " 0.003286568847851612,\n",
       " -0.009975653632380066,\n",
       " -0.0036108520806221733,\n",
       " 0.0002772693694046424,\n",
       " -0.0010276481035491614,\n",
       " 0.021182579905510757,\n",
       " -0.0040635785508307265,\n",
       " -0.014689335116316649,\n",
       " -0.009016938754291104,\n",
       " 0.0006767339019413399,\n",
       " 0.0030202591594932215,\n",
       " 0.0011560913409871532,\n",
       " 0.006455654139312372,\n",
       " -0.010401749133752247,\n",
       " 0.009571477493100389,\n",
       " 0.01772055395685701,\n",
       " 0.006109451544446642,\n",
       " -0.0052087102107707395,\n",
       " -0.008937045847782876,\n",
       " -0.0008412313216981104,\n",
       " -0.006966354153933096,\n",
       " 0.017267827486649345,\n",
       " 0.007680678705759725,\n",
       " 0.016841731985275388,\n",
       " -0.00582122249399486,\n",
       " 0.0013957700605091716,\n",
       " 0.010157358807488137,\n",
       " -0.00744571159297891,\n",
       " -0.009150093598470299,\n",
       " 0.014152004132858664,\n",
       " -0.010428380102587731,\n",
       " 0.008000250331788195,\n",
       " -0.0024657204206830485,\n",
       " 0.005310522479372359,\n",
       " -0.011839821450886134,\n",
       " 0.00898559617871264,\n",
       " -0.009256617473812234,\n",
       " -0.020601410197865988,\n",
       " 0.010476930433518383,\n",
       " 0.0028072114088057987,\n",
       " -0.00222604170116103,\n",
       " 0.00557683216773075,\n",
       " -0.006913092216263017,\n",
       " -0.013970298957750593,\n",
       " -0.004383150176860973,\n",
       " 0.009358429742413854,\n",
       " -0.0011075410100565009,\n",
       " -0.0011341719788919846,\n",
       " 0.003579509505044598,\n",
       " 0.006189344450953982,\n",
       " -0.00768539031250004,\n",
       " 0.0033131998166862076,\n",
       " -0.0010542790723855333,\n",
       " 0.01207478856366695,\n",
       " 0.004911057946834774,\n",
       " 0.006002927669102043,\n",
       " -0.018018206220792088,\n",
       " 0.010423668495846528,\n",
       " 0.014391682852381571,\n",
       " 0.001475662967015623,\n",
       " -0.002838553984384262,\n",
       " 0.006375761232804145,\n",
       " 0.0028072114088057987,\n",
       " -0.009363141349155946,\n",
       " 0.011835109844144043,\n",
       " -0.010428380102587731,\n",
       " 0.005949665731431963,\n",
       " -0.0002287190384748783,\n",
       " 0.017347720393155797,\n",
       " 0.0021680681567470828,\n",
       " -0.013490941518705668,\n",
       " 0.013299813130113414,\n",
       " 0.006082820575611159,\n",
       " 0.01497756416676932,\n",
       " -0.009895760725871838,\n",
       " 0.006961642547191893,\n",
       " 0.005949665731431963,\n",
       " 0.021182579905510757,\n",
       " 0.00011748355639085162,\n",
       " 0.0035262475673736304,\n",
       " -0.0008678622905344824,\n",
       " 0.00325993787901524,\n",
       " -0.005688067649815665,\n",
       " 0.012128050501337917,\n",
       " 0.0011028294033144093,\n",
       " 0.005496939261222522,\n",
       " -0.0063272109018743805,\n",
       " -0.01932312369374678,\n",
       " 0.009544846524264905,\n",
       " 0.0029669972218204776,\n",
       " 0.004058866944089523,\n",
       " 0.003286568847851612,\n",
       " 0.008692655521518766,\n",
       " -0.008138116782709481,\n",
       " -0.004463043083368312,\n",
       " -0.0005482906645051244,\n",
       " -0.00012219516313205503,\n",
       " 0.012420991158531791,\n",
       " -0.010907737541633544,\n",
       " -0.0019863629816390116,\n",
       " -0.0040902095196670984,\n",
       " -0.003051601735071685,\n",
       " -0.007925069032022058,\n",
       " -0.014556180272137453,\n",
       " 0.0020349133125678875,\n",
       " 0.0035262475673736304,\n",
       " -0.003770637893635964,\n",
       " 0.009305167804742887,\n",
       " 0.01764066105034967,\n",
       " -0.013890406051242365,\n",
       " -0.001746684262116105,\n",
       " -6.893322546019931e-05,\n",
       " 0.006056189606774787,\n",
       " -0.004729352771725814,\n",
       " 0.007574154830415125,\n",
       " 0.003765926286895649,\n",
       " -0.0029450778597270855,\n",
       " 0.003073521097164189,\n",
       " -0.012319178889930171,\n",
       " -0.0013472197295785193,\n",
       " -0.002865184953219746,\n",
       " -0.007126139966948664,\n",
       " -0.004010316613159759,\n",
       " 0.01463136157190359,\n",
       " -0.0019863629816390116,\n",
       " 0.0004104242135838376,\n",
       " -0.007498973530648989,\n",
       " 0.002461008813940957,\n",
       " 0.007813833549938032,\n",
       " 0.0005968409954348886,\n",
       " 0.0036594024115519375,\n",
       " -0.007179401904620519,\n",
       " 0.01239436018969542,\n",
       " -0.002066255888145463,\n",
       " 0.005843141856088252,\n",
       " -0.009016938754291104,\n",
       " -0.008937045847782876,\n",
       " -0.007259294811127859,\n",
       " 0.01026388268283096,\n",
       " 0.019611352744198562,\n",
       " 0.005310522479372359,\n",
       " 0.017960232676379917,\n",
       " 0.017853708801035317,\n",
       " -0.0024390894518466766,\n",
       " -0.0074723425618143935,\n",
       " -0.014103453801929788,\n",
       " -0.012585488578288562,\n",
       " -0.0039037927378160475,\n",
       " 0.0006767339019413399,\n",
       " 0.013432967974292609,\n",
       " 0.026162571077807506,\n",
       " 0.00523062957286502,\n",
       " 0.014178635101695036,\n",
       " -0.003957054675487903,\n",
       " -0.01793831331428475,\n",
       " 0.0023544849385981337,\n",
       " 0.019291781118169204,\n",
       " 0.0013158771540018321,\n",
       " 0.006961642547191893,\n",
       " 0.016309112608559495,\n",
       " 0.009118751022892724,\n",
       " -0.004702721802889442,\n",
       " -0.0076321283748290725,\n",
       " -0.008830521972440053,\n",
       " -0.016020883558106824,\n",
       " 0.0028338423776421706,\n",
       " 0.0031534140036724168,\n",
       " -0.01181319048205065,\n",
       " -0.014769228022824876,\n",
       " 0.014817778353753752,\n",
       " 0.004804534071491062,\n",
       " 0.0012093532786572325,\n",
       " -0.018337777846822334,\n",
       " 0.00592303476259648,\n",
       " -0.005448388930293646,\n",
       " -0.005714698618651148,\n",
       " -0.005102186335427028,\n",
       " 0.007334476110893107,\n",
       " 0.017427613299663136,\n",
       " -0.0023325655765038533,\n",
       " 0.010636716246533062,\n",
       " -0.004249995332682666,\n",
       " 0.0009430435902997303,\n",
       " 0.0013158771540018321,\n",
       " 0.0046447482584772715,\n",
       " 0.0010761984344789255,\n",
       " 0.00022400743173367488,\n",
       " -0.0009211242282072263,\n",
       " 0.004005605006417667,\n",
       " 0.010157358807488137,\n",
       " -0.005634805712142921,\n",
       " 0.00453822438313356,\n",
       " 0.01822654236473742,\n",
       " -0.020814457948551635,\n",
       " 0.015377028699306017,\n",
       " 0.012527515033874614,\n",
       " -0.008058223876201254,\n",
       " 0.0019283894372250643,\n",
       " 0.0018751274995532086,\n",
       " -0.000601552602176092,\n",
       " 0.0025142707516128127,\n",
       " 0.013752539600321967,\n",
       " 0.007148059329042944,\n",
       " -0.004276626301518149,\n",
       " 0.01130249046742815,\n",
       " 0.009917680087966119,\n",
       " -0.024303114866041753,\n",
       " -0.008670736159425374,\n",
       " -0.006034270244680506,\n",
       " 0.012634038909218326,\n",
       " 0.011781847906473075,\n",
       " -0.003530959174114834,\n",
       " -0.014662704147481165,\n",
       " 0.013140027317099623,\n",
       " -0.001746684262116105,\n",
       " 0.0033664617543580633,\n",
       " -0.02156012507595495,\n",
       " -0.009576189099843369,\n",
       " 0.0010495674656434417,\n",
       " -0.010508273009095959,\n",
       " -0.007951700000859319,\n",
       " -0.022998197393088837,\n",
       " -0.004915769553576865,\n",
       " 0.006109451544446642,\n",
       " -0.010561534946766926,\n",
       " -0.008404426471066984,\n",
       " 0.005496939261222522,\n",
       " -0.001080910041221017,\n",
       " -0.001586898449101426,\n",
       " -0.015355109337211736,\n",
       " 0.004751272133820095,\n",
       " 0.006295868326296805,\n",
       " -0.0017200532932806212,\n",
       " -0.011706666606707827,\n",
       " 0.012820455691069377,\n",
       " -0.007126139966948664,\n",
       " 0.0026740565646266035,\n",
       " -0.002705399140205067,\n",
       " -0.019030183036553794,\n",
       " 0.00847960777083312,\n",
       " -0.006247317995367041,\n",
       " 0.006242606388625838,\n",
       " 0.004564855351969044,\n",
       " -0.013118107955004454,\n",
       " 0.007148059329042944,\n",
       " -0.0037440069248013685,\n",
       " -0.006407103808382608,\n",
       " -0.00768539031250004,\n",
       " 0.0008897816526287627,\n",
       " 0.005683356043073573,\n",
       " -0.0040902095196670984,\n",
       " -0.01066805882210975,\n",
       " 0.007494261923907786,\n",
       " 0.00030390033824101437,\n",
       " 0.0042985456636115416,\n",
       " -0.00033524291381858973,\n",
       " 0.0034729856297017747,\n",
       " -0.009016938754291104,\n",
       " -0.011706666606707827,\n",
       " -0.002385827514175709,\n",
       " 0.0032066759413433843,\n",
       " -0.011999607263900813,\n",
       " -0.01479585899166036,\n",
       " 0.016122695826708444,\n",
       " 0.004405069538954365,\n",
       " 0.005070843759850341,\n",
       " 0.00797361936295271,\n",
       " -0.0016135294179369097,\n",
       " 0.0034729856297017747,\n",
       " 0.006642070921162535,\n",
       " 0.0036327714427164537,\n",
       " 0.004564855351969044,\n",
       " -0.012585488578288562,\n",
       " 0.0070415354536992325,\n",
       " -0.00417010242617355,\n",
       " -0.0032380185169209597,\n",
       " 0.006615439952327051,\n",
       " 0.008852441334534333,\n",
       " -0.0025988752648613556,\n",
       " -0.006726675434411078,\n",
       " 0.01489767126026198,\n",
       " -0.007206032873456003,\n",
       " -0.0032912804545928154,\n",
       " -0.02883037956812906,\n",
       " -0.009363141349155946,\n",
       " 0.015217242886291338,\n",
       " -0.005634805712142921,\n",
       " -0.003344542392264671,\n",
       " -0.0048891385847413815,\n",
       " -0.00922998650497675,\n",
       " -0.0055282818368000974,\n",
       " -0.007365818686470682,\n",
       " -0.012265916952258316,\n",
       " 0.0008098887461214233,\n",
       " -0.007419080624142538,\n",
       " -0.000601552602176092,\n",
       " 0.011861740812979527,\n",
       " -0.011653404669035083,\n",
       " -0.005155448273099772,\n",
       " 0.005044212791013969,\n",
       " 1.0959681046252001e-05,\n",
       " -0.009016938754291104,\n",
       " -0.017672003625927246,\n",
       " 0.011275859498592666,\n",
       " -0.00025535000731125024,\n",
       " -0.004383150176860973,\n",
       " -0.02361070967631118,\n",
       " 0.013246551192441558,\n",
       " -0.0008146003528626267,\n",
       " 0.007094797391371088,\n",
       " 0.004724641164984611,\n",
       " -0.0012939577919075518,\n",
       " -0.010987630448139996,\n",
       " -0.007925069032022058,\n",
       " 0.007733940643429804,\n",
       " 0.0005702100265985166,\n",
       " 0.0022213300944198267,\n",
       " 0.025044070386702977,\n",
       " -0.005288603117278079,\n",
       " 0.024431558103479745,\n",
       " 0.00523062957286502,\n",
       " 0.0135927537873064,\n",
       " 0.016921624891782727,\n",
       " -0.0038771617689805637,\n",
       " -0.0032646494857564434,\n",
       " 0.011036180779070648,\n",
       " 0.02328642644353973,\n",
       " -0.0050489243977560605,\n",
       " 0.009385060711250226,\n",
       " 0.00011748355639085162,\n",
       " 0.0035262475673736304,\n",
       " 0.015297135792799565,\n",
       " 0.001182722309822637,\n",
       " 0.0020881752502397433,\n",
       " -0.016633395841331833,\n",
       " -0.00012219516313205503,\n",
       " -0.003530959174114834,\n",
       " 0.013432967974292609,\n",
       " -0.00768539031250004,\n",
       " -0.01008217750772289,\n",
       " -0.0108544756039608,\n",
       " 0.004751272133820095,\n",
       " -0.004596197927547507,\n",
       " -0.005981008307009539,\n",
       " 0.011009549810235164,\n",
       " 0.008000250331788195,\n",
       " -0.006593520590232771,\n",
       " 0.019611352744198562,\n",
       " 0.010503561402353867,\n",
       " -0.02086771988622438,\n",
       " -0.023477554832131986,\n",
       " 0.0006501029331067443,\n",
       " 0.017507506206170476,\n",
       " 0.0004370551824202096,\n",
       " 0.0013691390916736879,\n",
       " -0.006620151559068255,\n",
       " -0.0031048636727417644,\n",
       " 0.008772548428026994,\n",
       " 0.009385060711250226,\n",
       " 0.006189344450953982,\n",
       " -0.0018798391062953002,\n",
       " -0.022199268328013666,\n",
       " 0.0038191882245675046,\n",
       " 0.013166658285935107,\n",
       " 0.01130249046742815,\n",
       " -0.01506216868001875,\n",
       " 0.011089442716741615,\n",
       " -0.00768539031250004,\n",
       " -0.004116840488502582,\n",
       " 0.0010495674656434417,\n",
       " 0.003446354660866291,\n",
       " 0.0072013212667139115,\n",
       " -0.0015070055425931983,\n",
       " -0.0015336365114295702,\n",
       " 0.0009696745591361022,\n",
       " 0.005017581822178485,\n",
       " 0.008586131646176831,\n",
       " 0.009811156212624184,\n",
       " 0.004112128881761379,\n",
       " -0.008324533564559644,\n",
       " 0.008000250331788195,\n",
       " -0.007152770935784147,\n",
       " -0.0016401603867732817,\n",
       " -0.006753306403248338,\n",
       " -0.004755983740562186,\n",
       " 9.085258755536785e-05,\n",
       " -0.01120067819882653,\n",
       " 0.0013158771540018321,\n",
       " -0.009762605881693531,\n",
       " 0.012447622127368163,\n",
       " -0.006646782527904627,\n",
       " -0.0018532081374598164,\n",
       " -0.007925069032022058,\n",
       " 0.004724641164984611,\n",
       " -0.0063272109018743805,\n",
       " -0.011147416261155563,\n",
       " 0.0008098887461214233,\n",
       " 0.011994895657158722,\n",
       " 0.0067485947965062465,\n",
       " 0.001795234593045869,\n",
       " -0.00667341349674011,\n",
       " 0.0111160736855771,\n",
       " -0.0009211242282072263,\n",
       " -0.007046247060441324,\n",
       " 0.00325993787901524,\n",
       " 0.011701954999964848,\n",
       " -0.006034270244680506,\n",
       " -0.006433734777217204,\n",
       " -0.008990307785454732,\n",
       " 0.0056034631365662335,\n",
       " 0.004591486320805416,\n",
       " -0.0004417667891605248,\n",
       " 0.006242606388625838,\n",
       " -0.015435002243719964,\n",
       " -0.0021727797634891743,\n",
       " -0.0016934223244442492,\n",
       " 0.01095628787256242,\n",
       " -0.009336510380320462,\n",
       " -0.010428380102587731,\n",
       " -0.011680035637871455,\n",
       " 0.0029936281906568496,\n",
       " 0.0029137352841503983,\n",
       " -0.0040902095196670984,\n",
       " 0.00874591745919151,\n",
       " -0.005767960556322116,\n",
       " -0.005901115400500423,\n",
       " 0.010050834932145314,\n",
       " 0.00906548908521998,\n",
       " -0.0011874339165647285,\n",
       " -0.001267326823072068,\n",
       " -0.0051288173042634,\n",
       " -0.008723998097096342,\n",
       " -0.010987630448139996,\n",
       " 0.028293048584671965,\n",
       " 0.0013691390916736879,\n",
       " -0.0007879693840271429,\n",
       " -0.011333833043005725,\n",
       " -0.006566889621396399,\n",
       " 0.012154681470174289,\n",
       " -0.0038771617689805637,\n",
       " 0.001795234593045869,\n",
       " -0.007871807094351091,\n",
       " 0.007574154830415125,\n",
       " 0.02432503422813692,\n",
       " 0.010823133028383225,\n",
       " -0.02329113805028271,\n",
       " -0.005261972148441707,\n",
       " -0.0016934223244442492,\n",
       " 3.759064988262395e-05,\n",
       " 0.0012093532786572325,\n",
       " -0.0002287190384748783,\n",
       " -0.008750629065932714,\n",
       " 0.013299813130113414,\n",
       " -0.005741329587486632,\n",
       " 0.0013957700605091716,\n",
       " -0.005901115400500423,\n",
       " 0.014258528008202376,\n",
       " -0.00315812561041362,\n",
       " -0.0008412313216981104,\n",
       " -0.005341865054949935,\n",
       " -0.005235341179606223,\n",
       " 0.011941633719488642,\n",
       " 0.0023811159074336175,\n",
       " -0.0029717088285625692,\n",
       " 0.012021526625994206,\n",
       " -0.01101426141697548,\n",
       " -0.019403016600255008,\n",
       " -0.013517572487541152,\n",
       " -0.009895760725871838,\n",
       " 0.0029669972218204776,\n",
       " -0.016127407433450536,\n",
       " -0.0025722442960249836,\n",
       " -0.0023059346076674814,\n",
       " -0.01189308338855799,\n",
       " 0.012793824722233005,\n",
       " 0.005070843759850341,\n",
       " -0.0031048636727417644,\n",
       " 0.016229219702051267,\n",
       " -0.017432324906405228,\n",
       " 0.0009696745591361022,\n",
       " -0.007578866437158105,\n",
       " -0.0006548145398488359,\n",
       " -0.0040635785508307265,\n",
       " 0.0001973764628981911,\n",
       " 0.0030468901283287053,\n",
       " 0.00855950067734046,\n",
       " 0.011542169186951057,\n",
       " -0.003797268862472336,\n",
       " -0.0029184468908916017,\n",
       " -0.00020208806963939452,\n",
       " 0.005417046354716071,\n",
       " -0.0028119230155487784,\n",
       " -0.004676090834053959,\n",
       " -0.00984249878820087,\n",
       " 0.01404548025751673,\n",
       " 0.011062811747906132,\n",
       " -0.01101426141697548,\n",
       " 0.013486229911963576,\n",
       " 0.005337153448207843,\n",
       " -0.008404426471066984,\n",
       " -0.013624096362884863,\n",
       " -0.013810513144735914,\n",
       " -0.003024970766235313,\n",
       " -0.01000228460121555,\n",
       " -0.012425702765273883,\n",
       " -0.0032646494857564434,\n",
       " 0.008133405175966502,\n",
       " -0.005155448273099772,\n",
       " -0.01588772871392763,\n",
       " 0.018253173333572903,\n",
       " 0.010689978184204918,\n",
       " -0.015488264181390932,\n",
       " 0.0011294603721516694,\n",
       " 0.01756076814384233,\n",
       " 0.0006501029331067443,\n",
       " -0.013890406051242365,\n",
       " -0.001906470075130784,\n",
       " -0.006087532182352362,\n",
       " 0.014604730603068994,\n",
       " 0.009704632337279584,\n",
       " -0.011387094980676693,\n",
       " -0.003797268862472336,\n",
       " -0.012186024045750976,\n",
       " 0.007813833549938032,\n",
       " -0.004622828896383879,\n",
       " 0.0001441145252254472,\n",
       " -0.0029184468908916017,\n",
       " -0.010534903977931442,\n",
       " 0.008692655521518766,\n",
       " -0.0003618738826549617,\n",
       " 0.0014224010293446554,\n",
       " -0.0034244352987720106,\n",
       " -0.004489674052203796,\n",
       " 0.008932334241041673,\n",
       " 0.010796502059547741,\n",
       " -0.004622828896383879,\n",
       " -0.014263239614944467,\n",
       " 0.009997572994473458,\n",
       " 0.005523570230058894,\n",
       " 0.005709987011909057,\n",
       " 0.014791147384918268,\n",
       " -0.003051601735071685,\n",
       " 0.004618117289641788,\n",
       " -0.0021461487946536906,\n",
       " 0.012980241504084056,\n",
       " -0.013038215048497115,\n",
       " 0.010556823340025723,\n",
       " 0.011728585968800331,\n",
       " 0.008612762615012315,\n",
       " -0.0032646494857564434,\n",
       " -0.003557590142951206,\n",
       " -0.006114163151187846,\n",
       " 0.008373083895489408,\n",
       " -0.0006281835710124639,\n",
       " 0.004964319884506629,\n",
       " 0.004511593414298076,\n",
       " 0.00778720258110166,\n",
       " -0.013703989269392203,\n",
       " 0.010876394966055969,\n",
       " -0.0016135294179369097,\n",
       " 0.0021680681567470828,\n",
       " 0.0011560913409871532,\n",
       " 0.017587399112677815,\n",
       " 0.006935011578355521,\n",
       " 0.00022400743173367488,\n",
       " -0.004729352771725814,\n",
       " 0.011622062093458396,\n",
       " 0.00025063840056915865,\n",
       " -0.0006814455086843196,\n",
       " 0.008293190988982069,\n",
       " -0.009975653632380066,\n",
       " -0.013890406051242365,\n",
       " -0.0015602674802659422,\n",
       " -0.007179401904620519,\n",
       " 0.0020615442814033713,\n",
       " 0.006349130263968661,\n",
       " 0.0009164126214642465,\n",
       " -0.005421757961457274,\n",
       " 0.01814664945823008,\n",
       " 0.011888371781815898,\n",
       " -0.008004961938530286,\n",
       " 0.02480439166718096,\n",
       " 0.021102686999004305,\n",
       " 0.012900348597575828,\n",
       " -0.001586898449101426,\n",
       " 0.005976296700266559,\n",
       " 0.00557683216773075,\n",
       " 0.006482285108148744,\n",
       " -0.02446290067905732,\n",
       " -0.012425702765273883,\n",
       " 0.006935011578355521,\n",
       " -0.007339187717635198,\n",
       " 0.0021680681567470828,\n",
       " -0.014236608646108984,\n",
       " 0.015137349979784887,\n",
       " -0.017299170062226032,\n",
       " 0.020330388902766394,\n",
       " 0.014604730603068994,\n",
       " 0.017986863645214513,\n",
       " 0.008239929051311101,\n",
       " 0.005709987011909057,\n",
       " 0.007414369017400446,\n",
       " -0.002066255888145463,\n",
       " -0.020601410197865988,\n",
       " 0.013965587351008502,\n",
       " 0.003126783034836045,\n",
       " 0.010050834932145314,\n",
       " -0.0050489243977560605,\n",
       " 0.012234574376681628,\n",
       " -0.004516305021040168,\n",
       " 0.009571477493100389,\n",
       " 0.009491584586593937,\n",
       " 0.01574986226300723,\n",
       " -0.009549558131006997,\n",
       " -0.0008146003528626267,\n",
       " -0.00046839775799689676,\n",
       " -0.00880389100360457,\n",
       " -0.011866452419722506,\n",
       " 0.007174690297878428,\n",
       " -0.027312414344487834,\n",
       " 0.007068166422534716,\n",
       " -0.008084854845037626,\n",
       " -0.009336510380320462,\n",
       " 0.00839971486432578,\n",
       " 0.012314467283188968,\n",
       " 0.0034996165985372585,\n",
       " 0.014231897039366892,\n",
       " -0.012692012453631385,\n",
       " 0.0005968409954348886,\n",
       " 0.0036327714427164537,\n",
       " -0.0016135294179369097,\n",
       " -0.013011584079661631,\n",
       " -0.008297902595723272,\n",
       " 0.003925712099910328,\n",
       " -0.011680035637871455,\n",
       " 0.012474253096204535,\n",
       " -0.009336510380320462,\n",
       " 0.00994431105680249,\n",
       " -0.00046839775799689676,\n",
       " 0.0077073096745952085,\n",
       " 0.012713931815725665,\n",
       " 0.007574154830415125,\n",
       " -0.005901115400500423,\n",
       " -0.00219941073232377,\n",
       " -0.006593520590232771,\n",
       " -0.014289870583779951,\n",
       " -0.0029717088285625692,\n",
       " 0.014711254478411817,\n",
       " -0.0004950287268332687,\n",
       " -0.010960999479304512,\n",
       " 0.00906548908521998,\n",
       " 0.013060134410590507,\n",
       " -0.007978330969694802,\n",
       " 0.010823133028383225,\n",
       " -0.010641427853275154,\n",
       " -0.005581543774471953,\n",
       " -0.003957054675487903,\n",
       " 0.0044849624454625925,\n",
       " -0.0027320301090405508,\n",
       " 0.011515538218114685,\n",
       " -0.0012140648854002123,\n",
       " -0.013011584079661631,\n",
       " -0.013810513144735914,\n",
       " 0.0020615442814033713,\n",
       " -0.010135439445393857,\n",
       " -0.006194056057695185,\n",
       " 0.00677522576534173,\n",
       " 0.011701954999964848,\n",
       " 0.0038191882245675046,\n",
       " -0.010960999479304512,\n",
       " 0.0009963055279724742,\n",
       " 0.0034729856297017747,\n",
       " -0.0063272109018743805,\n",
       " 0.007813833549938032,\n",
       " -0.00219941073232377,\n",
       " -0.00984249878820087,\n",
       " -0.014609442209809309,\n",
       " 0.0005968409954348886,\n",
       " 0.008506238739668603,\n",
       " 0.010343775589340076,\n",
       " -0.009975653632380066,\n",
       " 0.004751272133820095,\n",
       " -0.0023059346076674814,\n",
       " 0.009118751022892724,\n",
       " 0.0020082823437324038,\n",
       " -0.005581543774471953,\n",
       " 0.003233306910178868,\n",
       " 0.008186667113639245,\n",
       " 0.00419202178826783,\n",
       " -0.018018206220792088,\n",
       " -0.005634805712142921,\n",
       " 0.0011560913409871532,\n",
       " -0.0011341719788919846,\n",
       " -0.004835876647068638,\n",
       " -0.006646782527904627,\n",
       " 0.009731263306115068,\n",
       " 0.006215975419789466,\n",
       " 0.008186667113639245,\n",
       " -0.017432324906405228,\n",
       " -0.0063272109018743805,\n",
       " -0.022438947047535684,\n",
       " 0.006695332858833503,\n",
       " 0.007654047736923353,\n",
       " 0.006056189606774787,\n",
       " -0.005847853462830344,\n",
       " 0.0010761984344789255,\n",
       " 0.0001441145252254472,\n",
       " -0.005261972148441707,\n",
       " 0.017667292019186043,\n",
       " -0.009363141349155946,\n",
       " -0.022012851546162615,\n",
       " -0.002252672669996514,\n",
       " 0.013086765379426879,\n",
       " -0.01000228460121555,\n",
       " 0.0039523430687467,\n",
       " -0.013384417643361957,\n",
       " -0.008857152941275537,\n",
       " -0.00864410519058989,\n",
       " -0.0019597320128026396,\n",
       " -0.0019597320128026396,\n",
       " -0.002092886856981835,\n",
       " 0.001475662967015623,\n",
       " -0.002066255888145463,\n",
       " -0.0040635785508307265,\n",
       " 0.023233164505868764,\n",
       " -0.0008944932593708543,\n",
       " 0.005363784417043327,\n",
       " 0.007920357425280855,\n",
       " -0.012372440827602915,\n",
       " -0.00614079412002333,\n",
       " 0.009624739430772244,\n",
       " 0.009172012960563691,\n",
       " 0.009305167804742887,\n",
       " 0.006242606388625838,\n",
       " 0.003286568847851612,\n",
       " -0.010215332351902084,\n",
       " -0.006540258652560915,\n",
       " -0.018950290130045566,\n",
       " -0.007072878029276808,\n",
       " 0.003446354660866291,\n",
       " -0.002998339797398941,\n",
       " 0.006482285108148744,\n",
       " 0.006349130263968661,\n",
       " 0.00650891607698334,\n",
       " 0.0017419726553740134,\n",
       " -0.006620151559068255,\n",
       " 0.006056189606774787,\n",
       " -0.007525604499485361,\n",
       " 0.011835109844144043,\n",
       " 0.009491584586593937,\n",
       " -0.019616064350940654,\n",
       " -0.004010316613159759,\n",
       " -0.0019331010439662677,\n",
       " 0.007946988394117227,\n",
       " 0.009464953617757565,\n",
       " 0.005683356043073573,\n",
       " -0.0060076392758450226,\n",
       " 0.011488907249278313,\n",
       " 0.013805801537993823,\n",
       " -0.020920981823895346,\n",
       " -0.003983685644323387,\n",
       " -0.01572794290091384,\n",
       " 0.0039523430687467,\n",
       " 0.0013691390916736879,\n",
       " -0.01634045518413707,\n",
       " 0.008026881300624567,\n",
       " -0.0012140648854002123,\n",
       " 0.009172012960563691,\n",
       " 0.009225274898235547,\n",
       " -0.009735974912858048,\n",
       " -0.01839103978449419,\n",
       " -0.0007613384151907709,\n",
       " -0.013144738923839938,\n",
       " 0.005550201198895266,\n",
       " -0.003823899831308708,\n",
       " -0.010934368510469028,\n",
       " 0.009917680087966119,\n",
       " -0.015168692555361574,\n",
       " 0.0008631506837923908,\n",
       " 0.0012359842474936045,\n",
       " -0.016287193246465215,\n",
       " -0.006939723185098501,\n",
       " 0.0005968409954348886,\n",
       " 0.024165248415121354,\n",
       " 0.00033053130707649814,\n",
       " -0.014582811240972937,\n",
       " 0.0020349133125678875,\n",
       " -0.002838553984384262,\n",
       " 0.02190161606407859,\n",
       " -0.00582122249399486,\n",
       " 0.023605998069569978,\n",
       " 0.006082820575611159,\n",
       " -0.010215332351902084,\n",
       " 0.015430290636977873,\n",
       " -0.005847853462830344,\n",
       " 0.002141437187910711,\n",
       " 0.016468898421575062,\n",
       " -0.0009743861658773056,\n",
       " -0.011680035637871455,\n",
       " 0.013326444098948897,\n",
       " 0.0012093532786572325,\n",
       " 0.0047779031026555785,\n",
       " 0.011488907249278313,\n",
       " -0.007285925779964231,\n",
       " -0.005075555366591544,\n",
       " 0.017400982330827652,\n",
       " -0.006939723185098501,\n",
       " -0.019722588226283477,\n",
       " -0.007845176125515607,\n",
       " -0.00017545710080302257,\n",
       " -0.0008146003528626267,\n",
       " 0.0006501029331067443,\n",
       " 0.00232785396976265,\n",
       " 0.0049376889156702575,\n",
       " 0.005789879918416396,\n",
       " -0.026699902061264602,\n",
       " 0.001662079748867562,\n",
       " -0.001240695854235696,\n",
       " 0.0006767339019413399,\n",
       " -0.01711275328037498,\n",
       " -0.0008678622905344824,\n",
       " 0.0026740565646266035,\n",
       " -0.019642695319777026,\n",
       " 0.005310522479372359,\n",
       " -0.008244640658052305,\n",
       " 0.0001441145252254472,\n",
       " 0.005976296700266559,\n",
       " -0.00701961609160584,\n",
       " -0.006220687026531557,\n",
       " 0.0009164126214642465,\n",
       " -0.01588772871392763,\n",
       " -0.004223364363846294,\n",
       " 0.0057632489495809125,\n",
       " -0.017325801031061516,\n",
       " 0.0020349133125678875,\n",
       " -0.0003086119449822178,\n",
       " -0.006700044465575594,\n",
       " -0.0016401603867732817,\n",
       " -0.009389772317992318,\n",
       " 0.004431700507789849,\n",
       " 0.02387230775792748,\n",
       " -0.010215332351902084,\n",
       " -0.009336510380320462,\n",
       " 0.012953610535247684,\n",
       " -0.00038850485149044545,\n",
       " -0.006913092216263017,\n",
       " -0.013357786674526473,\n",
       " -0.0011608029477283566,\n",
       " 0.0012093532786572325,\n",
       " 0.011835109844144043,\n",
       " 0.008719286490355138,\n",
       " -0.005075555366591544,\n",
       " -0.0015336365114295702,\n",
       " -0.009123462629633927,\n",
       " -0.01908344497422476,\n",
       " 0.021262472812019872,\n",
       " -0.023211245143774484,\n",
       " 0.006668701889998019,\n",
       " 0.015696600325335375,\n",
       " -0.012106131139244525,\n",
       " 0.00232785396976265,\n",
       " -0.014982275773510523,\n",
       " -0.0050489243977560605,\n",
       " 0.005896403793760108,\n",
       " 0.0005169480889266609,\n",
       " 0.00017074549406181916,\n",
       " 0.00874591745919151,\n",
       " 0.01156880015578654,\n",
       " 0.006189344450953982,\n",
       " -0.019562802413269686,\n",
       " 0.004751272133820095,\n",
       " 0.005816510887252768,\n",
       " -0.00041513582032504104,\n",
       " -0.006380472839547124,\n",
       " 0.0068817496406845535,\n",
       " -0.009735974912858048,\n",
       " -0.009443034255663285,\n",
       " -0.003557590142951206,\n",
       " 0.011728585968800331,\n",
       " -0.007578866437158105,\n",
       " -0.00547501989912913,\n",
       " -0.006753306403248338,\n",
       " -0.014902382867003183,\n",
       " -0.005341865054949935,\n",
       " -0.007365818686470682,\n",
       " 0.008239929051311101,\n",
       " -0.0016401603867732817,\n",
       " -0.0003086119449822178,\n",
       " 0.0015022939358519949,\n",
       " -0.00992239169470821,\n",
       " -0.008937045847782876,\n",
       " -0.010321856227244908,\n",
       " 0.003233306910178868,\n",
       " -0.018710611410523548,\n",
       " -0.018444301722166045,\n",
       " 0.0346312191675926,\n",
       " -0.004116840488502582,\n",
       " -0.015008906742346895,\n",
       " -0.004649459865218475,\n",
       " -0.01181319048205065,\n",
       " 0.02078311537297406,\n",
       " -0.007312556748798826,\n",
       " 0.020969532154826,\n",
       " -0.026060758809205886,\n",
       " 0.006482285108148744,\n",
       " -0.013464310549870184,\n",
       " 0.005390415385879699,\n",
       " 0.002940366252985882,\n",
       " 0.011329121436263634,\n",
       " -0.005102186335427028,\n",
       " 0.016335743577395867,\n",
       " 0.0032066759413433843,\n",
       " 0.01239436018969542,\n",
       " -0.015275216430704397,\n",
       " 0.015803124200679974,\n",
       " 0.009571477493100389,\n",
       " -0.01564804999440561,\n",
       " -0.020122052758821063,\n",
       " -0.014502918334467374,\n",
       " 0.00650891607698334,\n",
       " -0.011759928544377907,\n",
       " 0.009544846524264905,\n",
       " 0.002940366252985882,\n",
       " -0.016020883558106824,\n",
       " 0.002487639782777329,\n",
       " -0.004569566958711135,\n",
       " -0.0060076392758450226,\n",
       " 0.007840464518773516,\n",
       " 0.0035262475673736304,\n",
       " 0.024458189072316117,\n",
       " -0.00486250761590501,\n",
       " -0.013970298957750593,\n",
       " -0.0029717088285625692,\n",
       " 0.00975789427495144,\n",
       " -0.002119517825818207,\n",
       " 0.0038191882245675046,\n",
       " 0.003126783034836045,\n",
       " ...]"
      ]
     },
     "execution_count": 56,
     "metadata": {},
     "output_type": "execute_result"
    }
   ],
   "source": [
    "difference"
   ]
  },
  {
   "cell_type": "code",
   "execution_count": 57,
   "metadata": {
    "colab": {},
    "colab_type": "code",
    "id": "VlzpYTkYFcv_"
   },
   "outputs": [
    {
     "data": {
      "image/png": "[encoded data removed]",
      "text/plain": [
       "<Figure size 640x480 with 1 Axes>"
      ]
     },
     "metadata": {},
     "output_type": "display_data"
    }
   ],
   "source": [
    "# Make a variable called 'histo', and assign to it the result of plotting a histogram of the difference list. \n",
    "histo = sns.histplot(difference)\n",
    "plt.xlabel('Difference in mean rating of google and apple')\n",
    "plt.title('Distribution of difference in mean rating of google and apple')\n",
    "plt.show()"
   ]
  },
  {
   "cell_type": "code",
   "execution_count": 54,
   "metadata": {
    "colab": {},
    "colab_type": "code",
    "id": "KhqgDFd3FcwB"
   },
   "outputs": [
    {
     "name": "stdout",
     "output_type": "stream",
     "text": [
      "0.1420605474512291\n"
     ]
    }
   ],
   "source": [
    "# Now make a variable called obs_difference, and assign it the result of the mean of our 'apple' variable and the mean of our 'google variable'\n",
    "\n",
    "\n",
    "# Make this difference absolute with the built-in abs() function. \n",
    "\n",
    "# Print out this value; it should be 0.1420605474512291. \n",
    "obs_difference = abs(apple.mean()-google.mean())\n",
    "print(obs_difference)"
   ]
  },
  {
   "cell_type": "markdown",
   "metadata": {
    "colab_type": "text",
    "id": "QUNuuSgDFcwE"
   },
   "source": [
    "## Stage 4 -  Evaluating and concluding\n",
    "### 4a. What is our conclusion?"
   ]
  },
  {
   "cell_type": "code",
   "execution_count": 60,
   "metadata": {
    "colab": {},
    "colab_type": "code",
    "id": "XMQHnqx1FcwF"
   },
   "outputs": [
    {
     "data": {
      "text/plain": [
       "0.0"
      ]
     },
     "execution_count": 60,
     "metadata": {},
     "output_type": "execute_result"
    }
   ],
   "source": [
    "'''\n",
    "What do we know? \n",
    "\n",
    "Recall: The p-value of our observed data is just the proportion of the data given the null that's at least as extreme as that observed data.\n",
    "\n",
    "As a result, we're going to count how many of the differences in our difference list are at least as extreme as our observed difference.\n",
    "\n",
    "If less than or equal to 5% of them are, then we will reject the Null. \n",
    "'''\n",
    "p = sum([1 if abs(i)>=obs_difference else 0 for i in difference])/len(difference)\n",
    "p"
   ]
  },
  {
   "cell_type": "markdown",
   "metadata": {
    "colab_type": "text",
    "id": "4RTofY9wFcwI"
   },
   "source": [
    "### 4b. What is our decision?\n",
    "So actually, zero differences are at least as extreme as our observed difference!\n",
    "\n",
    "So the p-value of our observed data is 0. \n",
    "\n",
    "It doesn't matter which significance level we pick; our observed data is statistically significant, and we reject the Null.\n",
    "\n",
    "We conclude that platform does impact on ratings. Specifically, we should advise our client to integrate **only Google Play** into their operating system interface. "
   ]
  },
  {
   "cell_type": "markdown",
   "metadata": {
    "colab_type": "text",
    "id": "Cu_eh7fTFcwJ"
   },
   "source": [
    "### 4c. Other statistical tests, and next steps\n",
    "The test we used here is the Permutation test. This was appropriate because our data were not normally distributed! \n",
    "\n",
    "As we've seen in Professor Spiegelhalter's book, there are actually many different statistical tests, all with different assumptions. How many of these different statistical tests can you remember? How much do you remember about what the appropriate conditions are under which to use them? \n",
    "\n",
    "Make a note of your answers to these questions, and discuss them with your mentor at your next call. \n"
   ]
  }
 ],
 "metadata": {
  "colab": {
   "collapsed_sections": [
    "5fbRq2MZFcvq",
    "4RTofY9wFcwI",
    "Cu_eh7fTFcwJ"
   ],
   "name": "Springboard Apps project - Tier 3 - Complete.ipynb",
   "provenance": []
  },
  "kernelspec": {
   "display_name": "Python 3 (ipykernel)",
   "language": "python",
   "name": "python3"
  },
  "language_info": {
   "codemirror_mode": {
    "name": "ipython",
    "version": 3
   },
   "file_extension": ".py",
   "mimetype": "text/x-python",
   "name": "python",
   "nbconvert_exporter": "python",
   "pygments_lexer": "ipython3",
   "version": "3.11.5"
  }
 },
 "nbformat": 4,
 "nbformat_minor": 1
}
